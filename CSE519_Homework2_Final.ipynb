{
 "cells": [
  {
   "cell_type": "markdown",
   "metadata": {
    "colab_type": "text",
    "id": "ueUdUzq1MWC-"
   },
   "source": [
    "## Imports"
   ]
  },
  {
   "cell_type": "code",
   "execution_count": 0,
   "metadata": {
    "colab": {},
    "colab_type": "code",
    "id": "cQT1O3vqkW-f"
   },
   "outputs": [],
   "source": [
    "import numpy as np                  #For NumPy arrays and mathematical functions\n",
    "import pandas as pd                 #For operations using DataFrames\n",
    "import matplotlib.pyplot as plt     #For plotting\n",
    "import seaborn as sns               #For plotting\n",
    "import time \n",
    "import os"
   ]
  },
  {
   "cell_type": "markdown",
   "metadata": {
    "colab_type": "text",
    "id": "IgTYWxr6MifJ"
   },
   "source": [
    "## Mounting Google Drive on Colab"
   ]
  },
  {
   "cell_type": "code",
   "execution_count": 2,
   "metadata": {
    "colab": {
     "base_uri": "https://localhost:8080/",
     "height": 34
    },
    "colab_type": "code",
    "id": "zkZb-4v0Mmwn",
    "outputId": "ee8e5cd8-29e8-4a83-ae12-5250396c0b18"
   },
   "outputs": [
    {
     "name": "stdout",
     "output_type": "stream",
     "text": [
      "Mounted at gdrive\n"
     ]
    }
   ],
   "source": [
    "from google.colab import drive\n",
    "drive.mount('gdrive')"
   ]
  },
  {
   "cell_type": "markdown",
   "metadata": {
    "colab_type": "text",
    "id": "zevbhlhmMrGy"
   },
   "source": [
    "Creating File and Directory paths"
   ]
  },
  {
   "cell_type": "code",
   "execution_count": 0,
   "metadata": {
    "colab": {},
    "colab_type": "code",
    "id": "N_r3PS8lM0XD"
   },
   "outputs": [],
   "source": [
    "dir_path = \"gdrive/My Drive/Colab Notebooks/Datasets/NYC/\"\n",
    "file_name = \"train.feather\""
   ]
  },
  {
   "cell_type": "markdown",
   "metadata": {
    "colab_type": "text",
    "id": "Mpkg474GM1Yg"
   },
   "source": [
    "### Installing Feather locally for reading"
   ]
  },
  {
   "cell_type": "code",
   "execution_count": 0,
   "metadata": {
    "colab": {},
    "colab_type": "code",
    "id": "D6dKZzuWM8Sa"
   },
   "outputs": [],
   "source": [
    "!pip install -U feather-format"
   ]
  },
  {
   "cell_type": "markdown",
   "metadata": {
    "colab_type": "text",
    "id": "DF5XxwVkM-DM"
   },
   "source": [
    "## Reading the dataset "
   ]
  },
  {
   "cell_type": "code",
   "execution_count": 4,
   "metadata": {
    "colab": {
     "base_uri": "https://localhost:8080/",
     "height": 118
    },
    "colab_type": "code",
    "id": "6lGhvB12NCEv",
    "outputId": "933939fd-964f-4e16-f74d-3a088e070630"
   },
   "outputs": [
    {
     "name": "stdout",
     "output_type": "stream",
     "text": [
      "Reading Feather file...\n"
     ]
    },
    {
     "name": "stderr",
     "output_type": "stream",
     "text": [
      "/usr/local/lib/python3.6/dist-packages/pandas/io/feather_format.py:112: FutureWarning: `nthreads` argument is deprecated, pass `use_threads` instead\n",
      "  return feather.read_dataframe(path, nthreads=nthreads)\n"
     ]
    },
    {
     "name": "stdout",
     "output_type": "stream",
     "text": [
      "Reading completed\n",
      "CPU times: user 3 µs, sys: 2 µs, total: 5 µs\n",
      "Wall time: 14.5 µs\n"
     ]
    }
   ],
   "source": [
    "print(\"Reading Feather file...\")\n",
    "df = pd.read_feather(dir_path+file_name)\n",
    "print(\"Reading completed\")\n",
    "%time"
   ]
  },
  {
   "cell_type": "markdown",
   "metadata": {
    "colab_type": "text",
    "id": "knDqO5nRNDQo"
   },
   "source": [
    "### Now let's examine the properties of dataset\n"
   ]
  },
  {
   "cell_type": "code",
   "execution_count": 0,
   "metadata": {
    "colab": {
     "base_uri": "https://localhost:8080/",
     "height": 230
    },
    "colab_type": "code",
    "id": "tKY5ywwINfmd",
    "outputId": "45290b50-2e20-4fee-886c-dbf86200f95f"
   },
   "outputs": [
    {
     "name": "stdout",
     "output_type": "stream",
     "text": [
      "<class 'pandas.core.frame.DataFrame'>\n",
      "RangeIndex: 55423856 entries, 0 to 55423855\n",
      "Data columns (total 7 columns):\n",
      "fare_amount          float32\n",
      "pickup_datetime      datetime64[ns, UTC]\n",
      "pickup_longitude     float32\n",
      "pickup_latitude      float32\n",
      "dropoff_longitude    float32\n",
      "dropoff_latitude     float32\n",
      "passenger_count      uint8\n",
      "dtypes: datetime64[ns, UTC](1), float32(5), uint8(1)\n",
      "memory usage: 1.5 GB\n"
     ]
    }
   ],
   "source": [
    "df.info()"
   ]
  },
  {
   "cell_type": "code",
   "execution_count": 6,
   "metadata": {
    "colab": {
     "base_uri": "https://localhost:8080/",
     "height": 195
    },
    "colab_type": "code",
    "id": "V-g2LVopNiBX",
    "outputId": "c44a101e-c6f9-451d-fdfb-9cb444075eed"
   },
   "outputs": [
    {
     "data": {
      "text/html": [
       "<div>\n",
       "<style scoped>\n",
       "    .dataframe tbody tr th:only-of-type {\n",
       "        vertical-align: middle;\n",
       "    }\n",
       "\n",
       "    .dataframe tbody tr th {\n",
       "        vertical-align: top;\n",
       "    }\n",
       "\n",
       "    .dataframe thead th {\n",
       "        text-align: right;\n",
       "    }\n",
       "</style>\n",
       "<table border=\"1\" class=\"dataframe\">\n",
       "  <thead>\n",
       "    <tr style=\"text-align: right;\">\n",
       "      <th></th>\n",
       "      <th>fare_amount</th>\n",
       "      <th>pickup_datetime</th>\n",
       "      <th>pickup_longitude</th>\n",
       "      <th>pickup_latitude</th>\n",
       "      <th>dropoff_longitude</th>\n",
       "      <th>dropoff_latitude</th>\n",
       "      <th>passenger_count</th>\n",
       "    </tr>\n",
       "  </thead>\n",
       "  <tbody>\n",
       "    <tr>\n",
       "      <th>0</th>\n",
       "      <td>4.5</td>\n",
       "      <td>2009-06-15 17:26:00+00:00</td>\n",
       "      <td>-73.844315</td>\n",
       "      <td>40.721317</td>\n",
       "      <td>-73.841614</td>\n",
       "      <td>40.712276</td>\n",
       "      <td>1</td>\n",
       "    </tr>\n",
       "    <tr>\n",
       "      <th>1</th>\n",
       "      <td>16.9</td>\n",
       "      <td>2010-01-05 16:52:00+00:00</td>\n",
       "      <td>-74.016045</td>\n",
       "      <td>40.711304</td>\n",
       "      <td>-73.979271</td>\n",
       "      <td>40.782005</td>\n",
       "      <td>1</td>\n",
       "    </tr>\n",
       "    <tr>\n",
       "      <th>2</th>\n",
       "      <td>5.7</td>\n",
       "      <td>2011-08-18 00:35:00+00:00</td>\n",
       "      <td>-73.982735</td>\n",
       "      <td>40.761269</td>\n",
       "      <td>-73.991241</td>\n",
       "      <td>40.750561</td>\n",
       "      <td>2</td>\n",
       "    </tr>\n",
       "    <tr>\n",
       "      <th>3</th>\n",
       "      <td>7.7</td>\n",
       "      <td>2012-04-21 04:30:00+00:00</td>\n",
       "      <td>-73.987129</td>\n",
       "      <td>40.733143</td>\n",
       "      <td>-73.991570</td>\n",
       "      <td>40.758091</td>\n",
       "      <td>1</td>\n",
       "    </tr>\n",
       "    <tr>\n",
       "      <th>4</th>\n",
       "      <td>5.3</td>\n",
       "      <td>2010-03-09 07:51:00+00:00</td>\n",
       "      <td>-73.968094</td>\n",
       "      <td>40.768009</td>\n",
       "      <td>-73.956657</td>\n",
       "      <td>40.783764</td>\n",
       "      <td>1</td>\n",
       "    </tr>\n",
       "  </tbody>\n",
       "</table>\n",
       "</div>"
      ],
      "text/plain": [
       "   fare_amount           pickup_datetime  pickup_longitude  pickup_latitude  \\\n",
       "0          4.5 2009-06-15 17:26:00+00:00        -73.844315        40.721317   \n",
       "1         16.9 2010-01-05 16:52:00+00:00        -74.016045        40.711304   \n",
       "2          5.7 2011-08-18 00:35:00+00:00        -73.982735        40.761269   \n",
       "3          7.7 2012-04-21 04:30:00+00:00        -73.987129        40.733143   \n",
       "4          5.3 2010-03-09 07:51:00+00:00        -73.968094        40.768009   \n",
       "\n",
       "   dropoff_longitude  dropoff_latitude  passenger_count  \n",
       "0         -73.841614         40.712276                1  \n",
       "1         -73.979271         40.782005                1  \n",
       "2         -73.991241         40.750561                2  \n",
       "3         -73.991570         40.758091                1  \n",
       "4         -73.956657         40.783764                1  "
      ]
     },
     "execution_count": 6,
     "metadata": {
      "tags": []
     },
     "output_type": "execute_result"
    }
   ],
   "source": [
    "df.head()"
   ]
  },
  {
   "cell_type": "code",
   "execution_count": 7,
   "metadata": {
    "colab": {
     "base_uri": "https://localhost:8080/",
     "height": 284
    },
    "colab_type": "code",
    "id": "8NGbUVyfNmPV",
    "outputId": "0342da5f-1430-44c2-fcd3-de8bb1bfa3fb"
   },
   "outputs": [
    {
     "data": {
      "text/html": [
       "<div>\n",
       "<style scoped>\n",
       "    .dataframe tbody tr th:only-of-type {\n",
       "        vertical-align: middle;\n",
       "    }\n",
       "\n",
       "    .dataframe tbody tr th {\n",
       "        vertical-align: top;\n",
       "    }\n",
       "\n",
       "    .dataframe thead th {\n",
       "        text-align: right;\n",
       "    }\n",
       "</style>\n",
       "<table border=\"1\" class=\"dataframe\">\n",
       "  <thead>\n",
       "    <tr style=\"text-align: right;\">\n",
       "      <th></th>\n",
       "      <th>fare_amount</th>\n",
       "      <th>pickup_longitude</th>\n",
       "      <th>pickup_latitude</th>\n",
       "      <th>dropoff_longitude</th>\n",
       "      <th>dropoff_latitude</th>\n",
       "      <th>passenger_count</th>\n",
       "    </tr>\n",
       "  </thead>\n",
       "  <tbody>\n",
       "    <tr>\n",
       "      <th>count</th>\n",
       "      <td>5.542386e+07</td>\n",
       "      <td>5.542386e+07</td>\n",
       "      <td>5.542386e+07</td>\n",
       "      <td>5.542348e+07</td>\n",
       "      <td>5.542348e+07</td>\n",
       "      <td>5.542386e+07</td>\n",
       "    </tr>\n",
       "    <tr>\n",
       "      <th>mean</th>\n",
       "      <td>1.134503e+01</td>\n",
       "      <td>-7.250972e+01</td>\n",
       "      <td>3.991985e+01</td>\n",
       "      <td>-7.251106e+01</td>\n",
       "      <td>3.992067e+01</td>\n",
       "      <td>1.685380e+00</td>\n",
       "    </tr>\n",
       "    <tr>\n",
       "      <th>std</th>\n",
       "      <td>2.071083e+01</td>\n",
       "      <td>1.284888e+01</td>\n",
       "      <td>9.642353e+00</td>\n",
       "      <td>1.278220e+01</td>\n",
       "      <td>9.633346e+00</td>\n",
       "      <td>1.327664e+00</td>\n",
       "    </tr>\n",
       "    <tr>\n",
       "      <th>min</th>\n",
       "      <td>-3.000000e+02</td>\n",
       "      <td>-3.442060e+03</td>\n",
       "      <td>-3.492264e+03</td>\n",
       "      <td>-3.442025e+03</td>\n",
       "      <td>-3.547887e+03</td>\n",
       "      <td>0.000000e+00</td>\n",
       "    </tr>\n",
       "    <tr>\n",
       "      <th>25%</th>\n",
       "      <td>6.000000e+00</td>\n",
       "      <td>-7.399207e+01</td>\n",
       "      <td>4.073493e+01</td>\n",
       "      <td>-7.399140e+01</td>\n",
       "      <td>4.073403e+01</td>\n",
       "      <td>1.000000e+00</td>\n",
       "    </tr>\n",
       "    <tr>\n",
       "      <th>50%</th>\n",
       "      <td>8.500000e+00</td>\n",
       "      <td>-7.398180e+01</td>\n",
       "      <td>4.075265e+01</td>\n",
       "      <td>-7.398015e+01</td>\n",
       "      <td>4.075316e+01</td>\n",
       "      <td>1.000000e+00</td>\n",
       "    </tr>\n",
       "    <tr>\n",
       "      <th>75%</th>\n",
       "      <td>1.250000e+01</td>\n",
       "      <td>-7.396708e+01</td>\n",
       "      <td>4.076713e+01</td>\n",
       "      <td>-7.396368e+01</td>\n",
       "      <td>4.076810e+01</td>\n",
       "      <td>2.000000e+00</td>\n",
       "    </tr>\n",
       "    <tr>\n",
       "      <th>max</th>\n",
       "      <td>9.396336e+04</td>\n",
       "      <td>3.457626e+03</td>\n",
       "      <td>3.408790e+03</td>\n",
       "      <td>3.457622e+03</td>\n",
       "      <td>3.537133e+03</td>\n",
       "      <td>2.080000e+02</td>\n",
       "    </tr>\n",
       "  </tbody>\n",
       "</table>\n",
       "</div>"
      ],
      "text/plain": [
       "        fare_amount  pickup_longitude  pickup_latitude  dropoff_longitude  \\\n",
       "count  5.542386e+07      5.542386e+07     5.542386e+07       5.542348e+07   \n",
       "mean   1.134503e+01     -7.250972e+01     3.991985e+01      -7.251106e+01   \n",
       "std    2.071083e+01      1.284888e+01     9.642353e+00       1.278220e+01   \n",
       "min   -3.000000e+02     -3.442060e+03    -3.492264e+03      -3.442025e+03   \n",
       "25%    6.000000e+00     -7.399207e+01     4.073493e+01      -7.399140e+01   \n",
       "50%    8.500000e+00     -7.398180e+01     4.075265e+01      -7.398015e+01   \n",
       "75%    1.250000e+01     -7.396708e+01     4.076713e+01      -7.396368e+01   \n",
       "max    9.396336e+04      3.457626e+03     3.408790e+03       3.457622e+03   \n",
       "\n",
       "       dropoff_latitude  passenger_count  \n",
       "count      5.542348e+07     5.542386e+07  \n",
       "mean       3.992067e+01     1.685380e+00  \n",
       "std        9.633346e+00     1.327664e+00  \n",
       "min       -3.547887e+03     0.000000e+00  \n",
       "25%        4.073403e+01     1.000000e+00  \n",
       "50%        4.075316e+01     1.000000e+00  \n",
       "75%        4.076810e+01     2.000000e+00  \n",
       "max        3.537133e+03     2.080000e+02  "
      ]
     },
     "execution_count": 7,
     "metadata": {
      "tags": []
     },
     "output_type": "execute_result"
    }
   ],
   "source": [
    "df.describe()"
   ]
  },
  {
   "cell_type": "markdown",
   "metadata": {
    "colab_type": "text",
    "id": "uKwvU8nuxel7"
   },
   "source": [
    "As we can see from the above description, our dataset contains a lot of anomalies and outliers. If a model is built without cleaning, it will be far from accurate. To build a good model, we will have to clean the data and add additional features"
   ]
  },
  {
   "cell_type": "markdown",
   "metadata": {
    "colab_type": "text",
    "id": "KJHf-x3FNoK6"
   },
   "source": [
    "## Data Cleaning and Exploration"
   ]
  },
  {
   "cell_type": "markdown",
   "metadata": {
    "colab_type": "text",
    "id": "i69bAzFrkZoL"
   },
   "source": [
    "#### 1. Perform Initial Operations"
   ]
  },
  {
   "cell_type": "markdown",
   "metadata": {
    "colab_type": "text",
    "id": "GSicchKaNzil"
   },
   "source": [
    "Check shape of data"
   ]
  },
  {
   "cell_type": "code",
   "execution_count": 0,
   "metadata": {
    "colab": {
     "base_uri": "https://localhost:8080/",
     "height": 35
    },
    "colab_type": "code",
    "id": "PJsJL2jpOOnh",
    "outputId": "3a3c3794-1dbf-4cff-aefe-062aa507e9f4"
   },
   "outputs": [
    {
     "data": {
      "text/plain": [
       "(55423856, 7)"
      ]
     },
     "execution_count": 9,
     "metadata": {
      "tags": []
     },
     "output_type": "execute_result"
    }
   ],
   "source": [
    "df.shape"
   ]
  },
  {
   "cell_type": "markdown",
   "metadata": {
    "colab_type": "text",
    "id": "c1fBRyOxSprD"
   },
   "source": [
    "Check rows having NaN values"
   ]
  },
  {
   "cell_type": "code",
   "execution_count": 5,
   "metadata": {
    "colab": {
     "base_uri": "https://localhost:8080/",
     "height": 151
    },
    "colab_type": "code",
    "id": "Zz3PdlolOPgc",
    "outputId": "efd6eb93-4431-429c-fe71-5eee7271d7f9"
   },
   "outputs": [
    {
     "data": {
      "text/plain": [
       "dropoff_latitude     376\n",
       "dropoff_longitude    376\n",
       "passenger_count        0\n",
       "pickup_latitude        0\n",
       "pickup_longitude       0\n",
       "pickup_datetime        0\n",
       "fare_amount            0\n",
       "dtype: int64"
      ]
     },
     "execution_count": 5,
     "metadata": {
      "tags": []
     },
     "output_type": "execute_result"
    }
   ],
   "source": [
    "df.isnull().sum().sort_values(ascending=False)"
   ]
  },
  {
   "cell_type": "markdown",
   "metadata": {
    "colab_type": "text",
    "id": "x3I0OsT0Ofnc"
   },
   "source": [
    "Dropping rows having NaN values\n",
    "As only the first two columns contain NaN values, we choose a subset of column to check for dropping the rows and proceed with this to improve performance"
   ]
  },
  {
   "cell_type": "code",
   "execution_count": 0,
   "metadata": {
    "colab": {},
    "colab_type": "code",
    "id": "Ke18SO33O3tS"
   },
   "outputs": [],
   "source": [
    "df = df.dropna(axis='index', how='any', subset=['dropoff_latitude', 'dropoff_longitude'])"
   ]
  },
  {
   "cell_type": "markdown",
   "metadata": {
    "colab_type": "text",
    "id": "_5kflu5TShq-"
   },
   "source": [
    "Now, after the rows are dropped, the shape will change"
   ]
  },
  {
   "cell_type": "code",
   "execution_count": 9,
   "metadata": {
    "colab": {
     "base_uri": "https://localhost:8080/",
     "height": 34
    },
    "colab_type": "code",
    "id": "500zytt9O7qI",
    "outputId": "acc21795-581d-4d94-8b81-3a232f405051"
   },
   "outputs": [
    {
     "data": {
      "text/plain": [
       "(55423480, 7)"
      ]
     },
     "execution_count": 9,
     "metadata": {
      "tags": []
     },
     "output_type": "execute_result"
    }
   ],
   "source": [
    "df.shape"
   ]
  },
  {
   "cell_type": "markdown",
   "metadata": {
    "colab_type": "text",
    "id": "OYa-0qQyPWB8"
   },
   "source": [
    "After having dropped the null rows, let us focus on making data good\n",
    "The data contains a lot of issues - \n",
    "1. Fare Amount is negative\n",
    "2. Latitude and Longitude \n",
    "3. Passenger Count\n"
   ]
  },
  {
   "cell_type": "markdown",
   "metadata": {
    "colab_type": "text",
    "id": "2DS6Rlr8TnKd"
   },
   "source": [
    "#### Step 1: Deleting rows having negative fare amount and fare above 95 dollars. \n",
    "\n",
    "The first task towards cleaning data would be removing rows having negative fare amount."
   ]
  },
  {
   "cell_type": "code",
   "execution_count": 0,
   "metadata": {
    "colab": {},
    "colab_type": "code",
    "id": "HFr85aYoTt_6"
   },
   "outputs": [],
   "source": [
    "#Removing rows with negative fare\n",
    "df = df[df.fare_amount > 0]"
   ]
  },
  {
   "cell_type": "code",
   "execution_count": 0,
   "metadata": {
    "colab": {
     "base_uri": "https://localhost:8080/",
     "height": 35
    },
    "colab_type": "code",
    "id": "ReRHixt0WPN0",
    "outputId": "174c9ce6-5963-4ce4-ce52-874dfa16484c"
   },
   "outputs": [
    {
     "data": {
      "text/plain": [
       "(55419646, 7)"
      ]
     },
     "execution_count": 7,
     "metadata": {
      "tags": []
     },
     "output_type": "execute_result"
    }
   ],
   "source": [
    "df.shape"
   ]
  },
  {
   "cell_type": "markdown",
   "metadata": {
    "colab_type": "text",
    "id": "lSU9X3LGWRtn"
   },
   "source": [
    "Let's plot a histogram checking for the distribution of fare_amount"
   ]
  },
  {
   "cell_type": "code",
   "execution_count": 0,
   "metadata": {
    "colab": {
     "base_uri": "https://localhost:8080/",
     "height": 394
    },
    "colab_type": "code",
    "id": "aXRd7F2TWr08",
    "outputId": "99019582-3aa2-4238-f70e-8ab99faaa96a"
   },
   "outputs": [
    {
     "data": {
      "text/plain": [
       "Text(0.5,1,'Histogram')"
      ]
     },
     "execution_count": 23,
     "metadata": {
      "tags": []
     },
     "output_type": "execute_result"
    },
    {
     "data": {
      "image/png": "[encoded data removed]",
      "text/plain": [
       "<matplotlib.figure.Figure at 0x7f64e0e3bc18>"
      ]
     },
     "metadata": {
      "tags": []
     },
     "output_type": "display_data"
    }
   ],
   "source": [
    "df[df.fare_amount<100].fare_amount.hist(bins=80)\n",
    "plt.xlabel('Fare $ USD')\n",
    "plt.ylabel('Frequency')\n",
    "plt.title('Histogram')"
   ]
  },
  {
   "cell_type": "markdown",
   "metadata": {
    "colab_type": "text",
    "id": "LBoxdI7BWwGU"
   },
   "source": [
    "This is a unimodal distribution. But even then, there exist fare amount greater than 150 dollars or so.\n",
    "A simple observation at the distribution reveals that the maximum fare amount lies between 5 to 15 dollars. In order to trim the outliers, let us check the quantiles."
   ]
  },
  {
   "cell_type": "code",
   "execution_count": 0,
   "metadata": {
    "colab": {
     "base_uri": "https://localhost:8080/",
     "height": 141
    },
    "colab_type": "code",
    "id": "ewxIFWSZXF92",
    "outputId": "5345a465-c954-4914-b5ae-e3f7e031b65d"
   },
   "outputs": [
    {
     "name": "stdout",
     "output_type": "stream",
     "text": [
      "         fare_amount  pickup_longitude  pickup_latitude  dropoff_longitude  \\\n",
      "0.00000     0.010000      -3442.059570     -3492.263672       -3442.024658   \n",
      "0.99953    95.330002         40.701997        41.012809          40.687964   \n",
      "\n",
      "         dropoff_latitude  passenger_count  \n",
      "0.00000      -3547.886719              0.0  \n",
      "0.99953         40.989659              6.0  \n"
     ]
    }
   ],
   "source": [
    "low =  0\n",
    "high = .99953       #3.5-standard deviation, that means covering 99.953% observations\n",
    "quantiles_df = df.quantile([low, high])\n",
    "print(quantiles_df)"
   ]
  },
  {
   "cell_type": "markdown",
   "metadata": {
    "colab_type": "text",
    "id": "PYqZ2OsuYxlR"
   },
   "source": [
    "As we can see, for 3.5 sigma, fare_amount -> 95 dollars. This means that the 99.953% of the observations lie below 95 dollars. **So it is safe to remove the outliers, that is, 0.047% observations.**\n"
   ]
  },
  {
   "cell_type": "code",
   "execution_count": 8,
   "metadata": {
    "colab": {
     "base_uri": "https://localhost:8080/",
     "height": 34
    },
    "colab_type": "code",
    "id": "1ypjseLBbiEK",
    "outputId": "2291f31b-e858-415d-cb83-c29146dcc21d"
   },
   "outputs": [
    {
     "data": {
      "text/plain": [
       "(55393378, 7)"
      ]
     },
     "execution_count": 8,
     "metadata": {
      "tags": []
     },
     "output_type": "execute_result"
    }
   ],
   "source": [
    "#Removing rows having having fare amount less than 3.5 sigma\n",
    "df = df[df.fare_amount <= 95]\n",
    "df.shape"
   ]
  },
  {
   "cell_type": "code",
   "execution_count": 0,
   "metadata": {
    "colab": {
     "base_uri": "https://localhost:8080/",
     "height": 177
    },
    "colab_type": "code",
    "id": "GIovO64zbq_m",
    "outputId": "62e0cccf-39ff-458a-e355-fe1bcb1057b8"
   },
   "outputs": [
    {
     "data": {
      "text/plain": [
       "count    5.539338e+07\n",
       "mean     1.128455e+01\n",
       "std      9.371513e+00\n",
       "min      1.000000e-02\n",
       "25%      6.000000e+00\n",
       "50%      8.500000e+00\n",
       "75%      1.250000e+01\n",
       "max      9.500000e+01\n",
       "Name: fare_amount, dtype: float64"
      ]
     },
     "execution_count": 29,
     "metadata": {
      "tags": []
     },
     "output_type": "execute_result"
    }
   ],
   "source": [
    "df.fare_amount.describe()"
   ]
  },
  {
   "cell_type": "markdown",
   "metadata": {
    "colab_type": "text",
    "id": "UkJYNWeA0oc_"
   },
   "source": [
    "Even now, we can see that the minimum fare is $0.01.\n",
    "\n",
    "But looking online for the taxi fares during the years 2009-2015, we understand that the minimum fare was $ 2. \n",
    "So we should only keep those rows for which the fare was above 2 dollars"
   ]
  },
  {
   "cell_type": "code",
   "execution_count": 9,
   "metadata": {
    "colab": {
     "base_uri": "https://localhost:8080/",
     "height": 34
    },
    "colab_type": "code",
    "id": "60iBvrCFrswr",
    "outputId": "29402cab-5079-4971-d02d-c0a6846b7b7c"
   },
   "outputs": [
    {
     "data": {
      "text/plain": [
       "(55392531, 7)"
      ]
     },
     "execution_count": 9,
     "metadata": {
      "tags": []
     },
     "output_type": "execute_result"
    }
   ],
   "source": [
    "#Removing rows with fare amount less than USD 2.\n",
    "df = df[df.fare_amount >= 2]\n",
    "df.shape"
   ]
  },
  {
   "cell_type": "code",
   "execution_count": 0,
   "metadata": {
    "colab": {
     "base_uri": "https://localhost:8080/",
     "height": 141
    },
    "colab_type": "code",
    "id": "RLS5c_qbYXfb",
    "outputId": "15e5b082-aba2-441e-ddbe-9a6d91569d29"
   },
   "outputs": [
    {
     "name": "stdout",
     "output_type": "stream",
     "text": [
      "        fare_amount  pickup_longitude  pickup_latitude  dropoff_longitude  \\\n",
      "0.0000         0.01       -3442.05957     -3492.263672       -3442.024658   \n",
      "0.9973        60.00           0.00000        40.828285           0.000000   \n",
      "\n",
      "        dropoff_latitude  passenger_count  \n",
      "0.0000      -3547.886719              0.0  \n",
      "0.9973         40.866947              6.0  \n"
     ]
    }
   ],
   "source": [
    "low =  0\n",
    "high = .9973         #3-standard deviation\n",
    "quantiles_df = df.quantile([low, high])\n",
    "print(quantiles_df)"
   ]
  },
  {
   "cell_type": "markdown",
   "metadata": {
    "colab_type": "text",
    "id": "4Qu6CdqXjPgf"
   },
   "source": [
    "#### Step 2: Delete passengers more than 6."
   ]
  },
  {
   "cell_type": "markdown",
   "metadata": {
    "colab_type": "text",
    "id": "0TJahdy7jmXI"
   },
   "source": [
    "We saw in the quantile plot above that 3 sigma as well as 3.5 sigma for passenger_count is 6.0, so let's drop rows having passenger_count > 6"
   ]
  },
  {
   "cell_type": "code",
   "execution_count": 10,
   "metadata": {
    "colab": {
     "base_uri": "https://localhost:8080/",
     "height": 34
    },
    "colab_type": "code",
    "id": "Hd-FFWXZjWK6",
    "outputId": "b8fefa44-b1e8-4b3c-b1f9-b273c4f8dbc0"
   },
   "outputs": [
    {
     "data": {
      "text/plain": [
       "(55392419, 7)"
      ]
     },
     "execution_count": 10,
     "metadata": {
      "tags": []
     },
     "output_type": "execute_result"
    }
   ],
   "source": [
    "#Dropping rows\n",
    "df = df[df.passenger_count <= 6]\n",
    "df.shape"
   ]
  },
  {
   "cell_type": "markdown",
   "metadata": {
    "colab_type": "text",
    "id": "HEdTdnNx5-TA"
   },
   "source": [
    "Also, removing rows with 0 passengers as a taxi cannot operate with 0 passengers"
   ]
  },
  {
   "cell_type": "code",
   "execution_count": 0,
   "metadata": {
    "colab": {},
    "colab_type": "code",
    "id": "77OpvDbU4h3S"
   },
   "outputs": [],
   "source": [
    "#Dropping rows\n",
    "df = df[df.passenger_count > 0]"
   ]
  },
  {
   "cell_type": "code",
   "execution_count": 12,
   "metadata": {
    "colab": {
     "base_uri": "https://localhost:8080/",
     "height": 34
    },
    "colab_type": "code",
    "id": "03AXQqI9x2aI",
    "outputId": "1283f856-e634-409b-d6d2-11d99713697e"
   },
   "outputs": [
    {
     "data": {
      "text/plain": [
       "(55197444, 7)"
      ]
     },
     "execution_count": 12,
     "metadata": {
      "tags": []
     },
     "output_type": "execute_result"
    }
   ],
   "source": [
    "df.shape"
   ]
  },
  {
   "cell_type": "markdown",
   "metadata": {
    "colab_type": "text",
    "id": "m0bK8SSmj5kn"
   },
   "source": [
    "#### Step 3: Cleaning based on Coordinates"
   ]
  },
  {
   "cell_type": "markdown",
   "metadata": {
    "colab_type": "text",
    "id": "eYr7r91HkT6S"
   },
   "source": [
    "Now we try to understand latitudes and longitudes and remove outliers in these fields.\n",
    "\n",
    "From basic Geography, we know that **Latitude** lies between -90 to +90.\n",
    "And **Longitude** lies between -180 to +180.\n",
    "\n",
    "But in our observation, we have a longitude of **-3446**, which clearly means that we need to remove outliers like these.\n",
    "\n",
    "Leaving everything aside, I found out the bounding box coordinates for NYC as the cabs were in NYC. Reducing our observations to these bounding box coordinates would ensure that we have eliminated all outliers.\n",
    "\n",
    "The coordinates for New York City are: \n",
    "-74.259087, 40.477398, -73.70018, 40.91618\n"
   ]
  },
  {
   "cell_type": "code",
   "execution_count": 15,
   "metadata": {
    "colab": {
     "base_uri": "https://localhost:8080/",
     "height": 34
    },
    "colab_type": "code",
    "id": "w47vPdC-qfLY",
    "outputId": "4ff4c5e4-1008-49d3-f163-786d6ddfde9a"
   },
   "outputs": [
    {
     "data": {
      "text/plain": [
       "(53979707, 7)"
      ]
     },
     "execution_count": 15,
     "metadata": {
      "tags": []
     },
     "output_type": "execute_result"
    }
   ],
   "source": [
    "df = df[(df.pickup_longitude >=  -74.259087) & (df.dropoff_longitude <= -73.70018)\n",
    "          & (df.dropoff_longitude >= -74.259087) & (df.pickup_longitude <= -73.70018)\n",
    "          & (df.pickup_latitude >= 40.477398) & (df.dropoff_latitude <= 40.91618)\n",
    "          & (df.dropoff_latitude >= 40.477398) & (df.pickup_latitude <= 40.91618)]\n",
    "df.shape"
   ]
  },
  {
   "cell_type": "code",
   "execution_count": 0,
   "metadata": {
    "colab": {},
    "colab_type": "code",
    "id": "1N1Mm-8YqzHn"
   },
   "outputs": [],
   "source": [
    "df.describe()"
   ]
  },
  {
   "cell_type": "markdown",
   "metadata": {
    "colab_type": "text",
    "id": "uZL8uutvsep9"
   },
   "source": [
    "Now we have sufficiently cleaned the data and it is free from outliers and looks uniform!"
   ]
  },
  {
   "cell_type": "markdown",
   "metadata": {
    "colab_type": "text",
    "id": "Nc-OQsfv72UI"
   },
   "source": [
    "## Creating a new feature for Time of Day"
   ]
  },
  {
   "cell_type": "code",
   "execution_count": 0,
   "metadata": {
    "colab": {},
    "colab_type": "code",
    "id": "-Y-yM7BytCaI"
   },
   "outputs": [],
   "source": [
    "df['time_of_day'] = df['pickup_datetime'].apply(lambda x:x.hour)\n",
    "#df.head()"
   ]
  },
  {
   "cell_type": "markdown",
   "metadata": {
    "colab_type": "text",
    "id": "qFWlLQ9gturX"
   },
   "source": [
    "## Creating a new feature for Month of Year\n"
   ]
  },
  {
   "cell_type": "code",
   "execution_count": 0,
   "metadata": {
    "colab": {},
    "colab_type": "code",
    "id": "ND6Zdl07vjZ9"
   },
   "outputs": [],
   "source": [
    "df['month_of_year'] = df['pickup_datetime'].apply(lambda x:x.month)\n",
    "#df.head()"
   ]
  },
  {
   "cell_type": "markdown",
   "metadata": {
    "colab_type": "text",
    "id": "L25GpY8MxPJs"
   },
   "source": [
    "## Creating a new feature for Year"
   ]
  },
  {
   "cell_type": "code",
   "execution_count": 0,
   "metadata": {
    "colab": {},
    "colab_type": "code",
    "id": "2bdLQkNLvqAw"
   },
   "outputs": [],
   "source": [
    "df['year'] = df['pickup_datetime'].apply(lambda x:x.year)\n",
    "#df.head()"
   ]
  },
  {
   "cell_type": "markdown",
   "metadata": {
    "colab_type": "text",
    "id": "y_qHdcBm8VZD"
   },
   "source": [
    "## Creating a new feature for Day of Week"
   ]
  },
  {
   "cell_type": "code",
   "execution_count": 0,
   "metadata": {
    "colab": {},
    "colab_type": "code",
    "id": "3kK5-vAl8U87"
   },
   "outputs": [],
   "source": [
    "df['day_of_week'] = pd.to_datetime(df['pickup_datetime']).dt.weekday.astype(np.int64)"
   ]
  },
  {
   "cell_type": "code",
   "execution_count": 0,
   "metadata": {
    "colab": {},
    "colab_type": "code",
    "id": "fa9OXLdQ8vu5"
   },
   "outputs": [],
   "source": [
    "df.head()"
   ]
  },
  {
   "cell_type": "code",
   "execution_count": 26,
   "metadata": {
    "colab": {
     "base_uri": "https://localhost:8080/",
     "height": 284
    },
    "colab_type": "code",
    "id": "Y0srFTOZvwNh",
    "outputId": "2c621b77-eec2-40e6-d01a-59ac0f3cc686"
   },
   "outputs": [
    {
     "data": {
      "text/html": [
       "<div>\n",
       "<style scoped>\n",
       "    .dataframe tbody tr th:only-of-type {\n",
       "        vertical-align: middle;\n",
       "    }\n",
       "\n",
       "    .dataframe tbody tr th {\n",
       "        vertical-align: top;\n",
       "    }\n",
       "\n",
       "    .dataframe thead th {\n",
       "        text-align: right;\n",
       "    }\n",
       "</style>\n",
       "<table border=\"1\" class=\"dataframe\">\n",
       "  <thead>\n",
       "    <tr style=\"text-align: right;\">\n",
       "      <th></th>\n",
       "      <th>fare_amount</th>\n",
       "      <th>pickup_longitude</th>\n",
       "      <th>pickup_latitude</th>\n",
       "      <th>dropoff_longitude</th>\n",
       "      <th>dropoff_latitude</th>\n",
       "      <th>passenger_count</th>\n",
       "      <th>time_of_day</th>\n",
       "      <th>month_of_year</th>\n",
       "      <th>year</th>\n",
       "      <th>day_of_week</th>\n",
       "    </tr>\n",
       "  </thead>\n",
       "  <tbody>\n",
       "    <tr>\n",
       "      <th>count</th>\n",
       "      <td>5.397971e+07</td>\n",
       "      <td>5.397971e+07</td>\n",
       "      <td>5.397971e+07</td>\n",
       "      <td>5.397971e+07</td>\n",
       "      <td>5.397971e+07</td>\n",
       "      <td>5.397971e+07</td>\n",
       "      <td>5.397971e+07</td>\n",
       "      <td>5.397971e+07</td>\n",
       "      <td>5.397971e+07</td>\n",
       "      <td>5.397971e+07</td>\n",
       "    </tr>\n",
       "    <tr>\n",
       "      <th>mean</th>\n",
       "      <td>1.126501e+01</td>\n",
       "      <td>-7.397079e+01</td>\n",
       "      <td>4.075009e+01</td>\n",
       "      <td>-7.397059e+01</td>\n",
       "      <td>4.075017e+01</td>\n",
       "      <td>1.691365e+00</td>\n",
       "      <td>1.351012e+01</td>\n",
       "      <td>6.269418e+00</td>\n",
       "      <td>2.011739e+03</td>\n",
       "      <td>3.041228e+00</td>\n",
       "    </tr>\n",
       "    <tr>\n",
       "      <th>std</th>\n",
       "      <td>9.294146e+00</td>\n",
       "      <td>3.441382e-02</td>\n",
       "      <td>2.688210e-02</td>\n",
       "      <td>3.377897e-02</td>\n",
       "      <td>3.071281e-02</td>\n",
       "      <td>1.307223e+00</td>\n",
       "      <td>6.516493e+00</td>\n",
       "      <td>3.436574e+00</td>\n",
       "      <td>1.865315e+00</td>\n",
       "      <td>1.949146e+00</td>\n",
       "    </tr>\n",
       "    <tr>\n",
       "      <th>min</th>\n",
       "      <td>2.000000e+00</td>\n",
       "      <td>-7.425903e+01</td>\n",
       "      <td>4.047759e+01</td>\n",
       "      <td>-7.425906e+01</td>\n",
       "      <td>4.047765e+01</td>\n",
       "      <td>1.000000e+00</td>\n",
       "      <td>0.000000e+00</td>\n",
       "      <td>1.000000e+00</td>\n",
       "      <td>2.009000e+03</td>\n",
       "      <td>0.000000e+00</td>\n",
       "    </tr>\n",
       "    <tr>\n",
       "      <th>25%</th>\n",
       "      <td>6.000000e+00</td>\n",
       "      <td>-7.399229e+01</td>\n",
       "      <td>4.073658e+01</td>\n",
       "      <td>-7.399158e+01</td>\n",
       "      <td>4.073559e+01</td>\n",
       "      <td>1.000000e+00</td>\n",
       "      <td>9.000000e+00</td>\n",
       "      <td>3.000000e+00</td>\n",
       "      <td>2.010000e+03</td>\n",
       "      <td>1.000000e+00</td>\n",
       "    </tr>\n",
       "    <tr>\n",
       "      <th>50%</th>\n",
       "      <td>8.500000e+00</td>\n",
       "      <td>-7.398210e+01</td>\n",
       "      <td>4.075336e+01</td>\n",
       "      <td>-7.398061e+01</td>\n",
       "      <td>4.075385e+01</td>\n",
       "      <td>1.000000e+00</td>\n",
       "      <td>1.400000e+01</td>\n",
       "      <td>6.000000e+00</td>\n",
       "      <td>2.012000e+03</td>\n",
       "      <td>3.000000e+00</td>\n",
       "    </tr>\n",
       "    <tr>\n",
       "      <th>75%</th>\n",
       "      <td>1.250000e+01</td>\n",
       "      <td>-7.396835e+01</td>\n",
       "      <td>4.076752e+01</td>\n",
       "      <td>-7.396541e+01</td>\n",
       "      <td>4.076837e+01</td>\n",
       "      <td>2.000000e+00</td>\n",
       "      <td>1.900000e+01</td>\n",
       "      <td>9.000000e+00</td>\n",
       "      <td>2.013000e+03</td>\n",
       "      <td>5.000000e+00</td>\n",
       "    </tr>\n",
       "    <tr>\n",
       "      <th>max</th>\n",
       "      <td>9.500000e+01</td>\n",
       "      <td>-7.370018e+01</td>\n",
       "      <td>4.091616e+01</td>\n",
       "      <td>-7.370018e+01</td>\n",
       "      <td>4.091618e+01</td>\n",
       "      <td>6.000000e+00</td>\n",
       "      <td>2.300000e+01</td>\n",
       "      <td>1.200000e+01</td>\n",
       "      <td>2.015000e+03</td>\n",
       "      <td>6.000000e+00</td>\n",
       "    </tr>\n",
       "  </tbody>\n",
       "</table>\n",
       "</div>"
      ],
      "text/plain": [
       "        fare_amount  pickup_longitude  pickup_latitude  dropoff_longitude  \\\n",
       "count  5.397971e+07      5.397971e+07     5.397971e+07       5.397971e+07   \n",
       "mean   1.126501e+01     -7.397079e+01     4.075009e+01      -7.397059e+01   \n",
       "std    9.294146e+00      3.441382e-02     2.688210e-02       3.377897e-02   \n",
       "min    2.000000e+00     -7.425903e+01     4.047759e+01      -7.425906e+01   \n",
       "25%    6.000000e+00     -7.399229e+01     4.073658e+01      -7.399158e+01   \n",
       "50%    8.500000e+00     -7.398210e+01     4.075336e+01      -7.398061e+01   \n",
       "75%    1.250000e+01     -7.396835e+01     4.076752e+01      -7.396541e+01   \n",
       "max    9.500000e+01     -7.370018e+01     4.091616e+01      -7.370018e+01   \n",
       "\n",
       "       dropoff_latitude  passenger_count   time_of_day  month_of_year  \\\n",
       "count      5.397971e+07     5.397971e+07  5.397971e+07   5.397971e+07   \n",
       "mean       4.075017e+01     1.691365e+00  1.351012e+01   6.269418e+00   \n",
       "std        3.071281e-02     1.307223e+00  6.516493e+00   3.436574e+00   \n",
       "min        4.047765e+01     1.000000e+00  0.000000e+00   1.000000e+00   \n",
       "25%        4.073559e+01     1.000000e+00  9.000000e+00   3.000000e+00   \n",
       "50%        4.075385e+01     1.000000e+00  1.400000e+01   6.000000e+00   \n",
       "75%        4.076837e+01     2.000000e+00  1.900000e+01   9.000000e+00   \n",
       "max        4.091618e+01     6.000000e+00  2.300000e+01   1.200000e+01   \n",
       "\n",
       "               year   day_of_week  \n",
       "count  5.397971e+07  5.397971e+07  \n",
       "mean   2.011739e+03  3.041228e+00  \n",
       "std    1.865315e+00  1.949146e+00  \n",
       "min    2.009000e+03  0.000000e+00  \n",
       "25%    2.010000e+03  1.000000e+00  \n",
       "50%    2.012000e+03  3.000000e+00  \n",
       "75%    2.013000e+03  5.000000e+00  \n",
       "max    2.015000e+03  6.000000e+00  "
      ]
     },
     "execution_count": 26,
     "metadata": {
      "tags": []
     },
     "output_type": "execute_result"
    }
   ],
   "source": [
    "df.describe()"
   ]
  },
  {
   "cell_type": "markdown",
   "metadata": {
    "colab_type": "text",
    "id": "4fpIYdFKwHtX"
   },
   "source": [
    "## Calculating Euclidean Distance [Haversine Distance]\n",
    "\n",
    "Referred this site: https://stackoverflow.com/questions/27928/calculate-distance-between-two-latitude-longitude-points-haversine-formula?rq=1"
   ]
  },
  {
   "cell_type": "code",
   "execution_count": 0,
   "metadata": {
    "colab": {},
    "colab_type": "code",
    "id": "QgkX5iXZwlgT"
   },
   "outputs": [],
   "source": [
    "from math import sin, cos, asin, sqrt, radians\n",
    "\n",
    "def euclidean_dist(lon1, lat1, lon2, lat2):\n",
    "    lon1, lat1, lon2, lat2 = map(np.radians, [lon1, lat1, lon2, lat2])\n",
    "    # haversine formula \n",
    "    dlon = lon2 - lon1 \n",
    "    dlat = lat2 - lat1 \n",
    "    a = (np.sin(dlat/2)**2 \n",
    "         + np.cos(lat1) * np.cos(lat2) * np.sin(dlon/2)**2)\n",
    "    c = 2 * np.arcsin(np.sqrt(a)) \n",
    "    miles = 3959 * c\n",
    "    return miles"
   ]
  },
  {
   "cell_type": "code",
   "execution_count": 0,
   "metadata": {
    "colab": {},
    "colab_type": "code",
    "id": "a1yWIM1Gw37a"
   },
   "outputs": [],
   "source": [
    "df['euclidean_dist'] = euclidean_dist(df.loc[:,'pickup_longitude'].astype(float), \n",
    "                                      df.loc[:,'pickup_latitude'].astype(float),\n",
    "                                      df.loc[:,'dropoff_longitude'].astype(float), \n",
    "                                      df.loc[:,'dropoff_latitude'].astype(float))"
   ]
  },
  {
   "cell_type": "code",
   "execution_count": 0,
   "metadata": {
    "colab": {
     "base_uri": "https://localhost:8080/",
     "height": 194
    },
    "colab_type": "code",
    "id": "cadB85NexEZq",
    "outputId": "05fb31db-1e0f-4876-de0f-e7192a1bde65"
   },
   "outputs": [
    {
     "data": {
      "text/html": [
       "<div>\n",
       "<style scoped>\n",
       "    .dataframe tbody tr th:only-of-type {\n",
       "        vertical-align: middle;\n",
       "    }\n",
       "\n",
       "    .dataframe tbody tr th {\n",
       "        vertical-align: top;\n",
       "    }\n",
       "\n",
       "    .dataframe thead th {\n",
       "        text-align: right;\n",
       "    }\n",
       "</style>\n",
       "<table border=\"1\" class=\"dataframe\">\n",
       "  <thead>\n",
       "    <tr style=\"text-align: right;\">\n",
       "      <th></th>\n",
       "      <th>fare_amount</th>\n",
       "      <th>pickup_datetime</th>\n",
       "      <th>pickup_longitude</th>\n",
       "      <th>pickup_latitude</th>\n",
       "      <th>dropoff_longitude</th>\n",
       "      <th>dropoff_latitude</th>\n",
       "      <th>passenger_count</th>\n",
       "      <th>time_of_day</th>\n",
       "      <th>month_of_year</th>\n",
       "      <th>year</th>\n",
       "      <th>euclidean_dist</th>\n",
       "    </tr>\n",
       "  </thead>\n",
       "  <tbody>\n",
       "    <tr>\n",
       "      <th>0</th>\n",
       "      <td>4.5</td>\n",
       "      <td>2009-06-15 17:26:00+00:00</td>\n",
       "      <td>-73.844315</td>\n",
       "      <td>40.721317</td>\n",
       "      <td>-73.841614</td>\n",
       "      <td>40.712276</td>\n",
       "      <td>1</td>\n",
       "      <td>17</td>\n",
       "      <td>6</td>\n",
       "      <td>2009</td>\n",
       "      <td>0.640513</td>\n",
       "    </tr>\n",
       "    <tr>\n",
       "      <th>1</th>\n",
       "      <td>16.9</td>\n",
       "      <td>2010-01-05 16:52:00+00:00</td>\n",
       "      <td>-74.016045</td>\n",
       "      <td>40.711304</td>\n",
       "      <td>-73.979271</td>\n",
       "      <td>40.782005</td>\n",
       "      <td>1</td>\n",
       "      <td>16</td>\n",
       "      <td>1</td>\n",
       "      <td>2010</td>\n",
       "      <td>5.250911</td>\n",
       "    </tr>\n",
       "    <tr>\n",
       "      <th>2</th>\n",
       "      <td>5.7</td>\n",
       "      <td>2011-08-18 00:35:00+00:00</td>\n",
       "      <td>-73.982735</td>\n",
       "      <td>40.761269</td>\n",
       "      <td>-73.991241</td>\n",
       "      <td>40.750561</td>\n",
       "      <td>2</td>\n",
       "      <td>0</td>\n",
       "      <td>8</td>\n",
       "      <td>2011</td>\n",
       "      <td>0.863531</td>\n",
       "    </tr>\n",
       "    <tr>\n",
       "      <th>3</th>\n",
       "      <td>7.7</td>\n",
       "      <td>2012-04-21 04:30:00+00:00</td>\n",
       "      <td>-73.987129</td>\n",
       "      <td>40.733143</td>\n",
       "      <td>-73.991570</td>\n",
       "      <td>40.758091</td>\n",
       "      <td>1</td>\n",
       "      <td>4</td>\n",
       "      <td>4</td>\n",
       "      <td>2012</td>\n",
       "      <td>1.739456</td>\n",
       "    </tr>\n",
       "    <tr>\n",
       "      <th>4</th>\n",
       "      <td>5.3</td>\n",
       "      <td>2010-03-09 07:51:00+00:00</td>\n",
       "      <td>-73.968094</td>\n",
       "      <td>40.768009</td>\n",
       "      <td>-73.956657</td>\n",
       "      <td>40.783764</td>\n",
       "      <td>1</td>\n",
       "      <td>7</td>\n",
       "      <td>3</td>\n",
       "      <td>2010</td>\n",
       "      <td>1.242248</td>\n",
       "    </tr>\n",
       "  </tbody>\n",
       "</table>\n",
       "</div>"
      ],
      "text/plain": [
       "   fare_amount           pickup_datetime  pickup_longitude  pickup_latitude  \\\n",
       "0          4.5 2009-06-15 17:26:00+00:00        -73.844315        40.721317   \n",
       "1         16.9 2010-01-05 16:52:00+00:00        -74.016045        40.711304   \n",
       "2          5.7 2011-08-18 00:35:00+00:00        -73.982735        40.761269   \n",
       "3          7.7 2012-04-21 04:30:00+00:00        -73.987129        40.733143   \n",
       "4          5.3 2010-03-09 07:51:00+00:00        -73.968094        40.768009   \n",
       "\n",
       "   dropoff_longitude  dropoff_latitude  passenger_count  time_of_day  \\\n",
       "0         -73.841614         40.712276                1           17   \n",
       "1         -73.979271         40.782005                1           16   \n",
       "2         -73.991241         40.750561                2            0   \n",
       "3         -73.991570         40.758091                1            4   \n",
       "4         -73.956657         40.783764                1            7   \n",
       "\n",
       "   month_of_year  year  euclidean_dist  \n",
       "0              6  2009        0.640513  \n",
       "1              1  2010        5.250911  \n",
       "2              8  2011        0.863531  \n",
       "3              4  2012        1.739456  \n",
       "4              3  2010        1.242248  "
      ]
     },
     "execution_count": 17,
     "metadata": {
      "tags": []
     },
     "output_type": "execute_result"
    }
   ],
   "source": [
    "df.head()"
   ]
  },
  {
   "cell_type": "code",
   "execution_count": 0,
   "metadata": {
    "colab": {},
    "colab_type": "code",
    "id": "wuR9P7ouxIIL"
   },
   "outputs": [],
   "source": [
    "df.describe()"
   ]
  },
  {
   "cell_type": "markdown",
   "metadata": {
    "colab_type": "text",
    "id": "_jOykEhn_Kv9"
   },
   "source": [
    "### Data Cleaning after adding new features"
   ]
  },
  {
   "cell_type": "markdown",
   "metadata": {
    "colab_type": "text",
    "id": "_sZ16k4G-bSL"
   },
   "source": [
    "After calculating Euclidean distance, there is an important parameter to work with. We now will **clean** the rows that have distance travelled less than 0.3 miles as most of the people do not use cabs for distances as short as this! There are almost 2 million such entries and they can spoil the model"
   ]
  },
  {
   "cell_type": "code",
   "execution_count": 22,
   "metadata": {
    "colab": {
     "base_uri": "https://localhost:8080/",
     "height": 34
    },
    "colab_type": "code",
    "id": "woYgdtl7xLXz",
    "outputId": "2e721bc3-e57d-45ca-c413-74be4cb6cbb2"
   },
   "outputs": [
    {
     "data": {
      "text/plain": [
       "2093705"
      ]
     },
     "execution_count": 22,
     "metadata": {
      "tags": []
     },
     "output_type": "execute_result"
    }
   ],
   "source": [
    "len(df[df.euclidean_dist <= 0.3 ])"
   ]
  },
  {
   "cell_type": "code",
   "execution_count": 0,
   "metadata": {
    "colab": {},
    "colab_type": "code",
    "id": "iX7L8Hj3xsoQ"
   },
   "outputs": [],
   "source": [
    "#Removing rows having distance less than 0.3 miles\n",
    "df = df[df.euclidean_dist >= 0.3]"
   ]
  },
  {
   "cell_type": "code",
   "execution_count": 24,
   "metadata": {
    "colab": {
     "base_uri": "https://localhost:8080/",
     "height": 34
    },
    "colab_type": "code",
    "id": "yeSSQcyoxzqu",
    "outputId": "670b7983-ef93-4edb-e7d7-51f67374c977"
   },
   "outputs": [
    {
     "data": {
      "text/plain": [
       "(51886002, 12)"
      ]
     },
     "execution_count": 24,
     "metadata": {
      "tags": []
     },
     "output_type": "execute_result"
    }
   ],
   "source": [
    "df.shape"
   ]
  },
  {
   "cell_type": "markdown",
   "metadata": {
    "colab_type": "text",
    "id": "BLu4F_IdBhix"
   },
   "source": [
    "# Now let's export this cleaned file!"
   ]
  },
  {
   "cell_type": "code",
   "execution_count": 0,
   "metadata": {
    "colab": {},
    "colab_type": "code",
    "id": "kcrXsO38Ckfi"
   },
   "outputs": [],
   "source": [
    "#Creating a feather file\n",
    "import feather\n",
    "feather.write_dataframe(df,'gdrive/My Drive/Colab Notebooks/Datasets/NYC/train_cleaned.feather')"
   ]
  },
  {
   "cell_type": "markdown",
   "metadata": {
    "colab_type": "text",
    "id": "lgSNmUPP_PmH"
   },
   "source": [
    "## Creating a correlation DataFrame"
   ]
  },
  {
   "cell_type": "code",
   "execution_count": 0,
   "metadata": {
    "colab": {},
    "colab_type": "code",
    "id": "SgyXLefKzbER"
   },
   "outputs": [],
   "source": [
    "df_correlation = df.filter(['fare_amount', 'time_of_day', 'euclidean_dist'], axis=1)"
   ]
  },
  {
   "cell_type": "markdown",
   "metadata": {
    "colab_type": "text",
    "id": "saA6HTZ22fMK"
   },
   "source": [
    "# Calculating Pearson Correlation Coefficient"
   ]
  },
  {
   "cell_type": "code",
   "execution_count": 27,
   "metadata": {
    "colab": {
     "base_uri": "https://localhost:8080/",
     "height": 136
    },
    "colab_type": "code",
    "id": "a0SWVYOp1iA2",
    "outputId": "5ce0d07a-1800-4c6d-bef2-c6b8c7057ceb"
   },
   "outputs": [
    {
     "data": {
      "text/html": [
       "<div>\n",
       "<style scoped>\n",
       "    .dataframe tbody tr th:only-of-type {\n",
       "        vertical-align: middle;\n",
       "    }\n",
       "\n",
       "    .dataframe tbody tr th {\n",
       "        vertical-align: top;\n",
       "    }\n",
       "\n",
       "    .dataframe thead th {\n",
       "        text-align: right;\n",
       "    }\n",
       "</style>\n",
       "<table border=\"1\" class=\"dataframe\">\n",
       "  <thead>\n",
       "    <tr style=\"text-align: right;\">\n",
       "      <th></th>\n",
       "      <th>fare_amount</th>\n",
       "      <th>time_of_day</th>\n",
       "      <th>euclidean_dist</th>\n",
       "    </tr>\n",
       "  </thead>\n",
       "  <tbody>\n",
       "    <tr>\n",
       "      <th>fare_amount</th>\n",
       "      <td>1.000000</td>\n",
       "      <td>-0.018592</td>\n",
       "      <td>0.904927</td>\n",
       "    </tr>\n",
       "    <tr>\n",
       "      <th>time_of_day</th>\n",
       "      <td>-0.018592</td>\n",
       "      <td>1.000000</td>\n",
       "      <td>-0.032418</td>\n",
       "    </tr>\n",
       "    <tr>\n",
       "      <th>euclidean_dist</th>\n",
       "      <td>0.904927</td>\n",
       "      <td>-0.032418</td>\n",
       "      <td>1.000000</td>\n",
       "    </tr>\n",
       "  </tbody>\n",
       "</table>\n",
       "</div>"
      ],
      "text/plain": [
       "                fare_amount  time_of_day  euclidean_dist\n",
       "fare_amount        1.000000    -0.018592        0.904927\n",
       "time_of_day       -0.018592     1.000000       -0.032418\n",
       "euclidean_dist     0.904927    -0.032418        1.000000"
      ]
     },
     "execution_count": 27,
     "metadata": {
      "tags": []
     },
     "output_type": "execute_result"
    }
   ],
   "source": [
    "df_correlation.corr(method='pearson')"
   ]
  },
  {
   "cell_type": "code",
   "execution_count": 0,
   "metadata": {
    "colab": {},
    "colab_type": "code",
    "id": "kArC6IGt1kpt"
   },
   "outputs": [],
   "source": [
    "sns.pairplot(df_correlation)"
   ]
  },
  {
   "cell_type": "markdown",
   "metadata": {
    "colab_type": "text",
    "id": "P3qZqJahDzae"
   },
   "source": [
    "## Converting to CSV File"
   ]
  },
  {
   "cell_type": "code",
   "execution_count": 0,
   "metadata": {
    "colab": {},
    "colab_type": "code",
    "id": "_mUiPNyi60hF"
   },
   "outputs": [],
   "source": [
    "#df.to_csv(path=\"gdrive/My Drive/Colab Notebooks/Datasets/NYC/train_cleaned.csv\")\n",
    "df.to_csv(\"gdrive/My Drive/Colab Notebooks/Datasets/NYC/train_cleaned.csv\",encoding='utf-8',index=False)"
   ]
  },
  {
   "cell_type": "markdown",
   "metadata": {
    "colab_type": "text",
    "id": "V7rQCzfVD5cQ"
   },
   "source": [
    "## Converting to Feather File"
   ]
  },
  {
   "cell_type": "code",
   "execution_count": 0,
   "metadata": {
    "colab": {
     "base_uri": "https://localhost:8080/",
     "height": 194
    },
    "colab_type": "code",
    "id": "51cSIN0f7AWs",
    "outputId": "d9578525-8f67-49e2-f20a-51dc7caf7ea0"
   },
   "outputs": [
    {
     "data": {
      "text/html": [
       "<div>\n",
       "<style scoped>\n",
       "    .dataframe tbody tr th:only-of-type {\n",
       "        vertical-align: middle;\n",
       "    }\n",
       "\n",
       "    .dataframe tbody tr th {\n",
       "        vertical-align: top;\n",
       "    }\n",
       "\n",
       "    .dataframe thead th {\n",
       "        text-align: right;\n",
       "    }\n",
       "</style>\n",
       "<table border=\"1\" class=\"dataframe\">\n",
       "  <thead>\n",
       "    <tr style=\"text-align: right;\">\n",
       "      <th></th>\n",
       "      <th>fare_amount</th>\n",
       "      <th>pickup_datetime</th>\n",
       "      <th>pickup_longitude</th>\n",
       "      <th>pickup_latitude</th>\n",
       "      <th>dropoff_longitude</th>\n",
       "      <th>dropoff_latitude</th>\n",
       "      <th>passenger_count</th>\n",
       "      <th>time_of_day</th>\n",
       "      <th>month_of_year</th>\n",
       "      <th>year</th>\n",
       "      <th>euclidean_dist</th>\n",
       "    </tr>\n",
       "  </thead>\n",
       "  <tbody>\n",
       "    <tr>\n",
       "      <th>0</th>\n",
       "      <td>4.5</td>\n",
       "      <td>2009-06-15 17:26:00+00:00</td>\n",
       "      <td>-73.844315</td>\n",
       "      <td>40.721317</td>\n",
       "      <td>-73.841614</td>\n",
       "      <td>40.712276</td>\n",
       "      <td>1</td>\n",
       "      <td>17</td>\n",
       "      <td>6</td>\n",
       "      <td>2009</td>\n",
       "      <td>0.640513</td>\n",
       "    </tr>\n",
       "    <tr>\n",
       "      <th>1</th>\n",
       "      <td>16.9</td>\n",
       "      <td>2010-01-05 16:52:00+00:00</td>\n",
       "      <td>-74.016045</td>\n",
       "      <td>40.711304</td>\n",
       "      <td>-73.979271</td>\n",
       "      <td>40.782005</td>\n",
       "      <td>1</td>\n",
       "      <td>16</td>\n",
       "      <td>1</td>\n",
       "      <td>2010</td>\n",
       "      <td>5.250911</td>\n",
       "    </tr>\n",
       "    <tr>\n",
       "      <th>2</th>\n",
       "      <td>5.7</td>\n",
       "      <td>2011-08-18 00:35:00+00:00</td>\n",
       "      <td>-73.982735</td>\n",
       "      <td>40.761269</td>\n",
       "      <td>-73.991241</td>\n",
       "      <td>40.750561</td>\n",
       "      <td>2</td>\n",
       "      <td>0</td>\n",
       "      <td>8</td>\n",
       "      <td>2011</td>\n",
       "      <td>0.863531</td>\n",
       "    </tr>\n",
       "    <tr>\n",
       "      <th>3</th>\n",
       "      <td>7.7</td>\n",
       "      <td>2012-04-21 04:30:00+00:00</td>\n",
       "      <td>-73.987129</td>\n",
       "      <td>40.733143</td>\n",
       "      <td>-73.991570</td>\n",
       "      <td>40.758091</td>\n",
       "      <td>1</td>\n",
       "      <td>4</td>\n",
       "      <td>4</td>\n",
       "      <td>2012</td>\n",
       "      <td>1.739456</td>\n",
       "    </tr>\n",
       "    <tr>\n",
       "      <th>4</th>\n",
       "      <td>5.3</td>\n",
       "      <td>2010-03-09 07:51:00+00:00</td>\n",
       "      <td>-73.968094</td>\n",
       "      <td>40.768009</td>\n",
       "      <td>-73.956657</td>\n",
       "      <td>40.783764</td>\n",
       "      <td>1</td>\n",
       "      <td>7</td>\n",
       "      <td>3</td>\n",
       "      <td>2010</td>\n",
       "      <td>1.242248</td>\n",
       "    </tr>\n",
       "  </tbody>\n",
       "</table>\n",
       "</div>"
      ],
      "text/plain": [
       "   fare_amount           pickup_datetime  pickup_longitude  pickup_latitude  \\\n",
       "0          4.5 2009-06-15 17:26:00+00:00        -73.844315        40.721317   \n",
       "1         16.9 2010-01-05 16:52:00+00:00        -74.016045        40.711304   \n",
       "2          5.7 2011-08-18 00:35:00+00:00        -73.982735        40.761269   \n",
       "3          7.7 2012-04-21 04:30:00+00:00        -73.987129        40.733143   \n",
       "4          5.3 2010-03-09 07:51:00+00:00        -73.968094        40.768009   \n",
       "\n",
       "   dropoff_longitude  dropoff_latitude  passenger_count  time_of_day  \\\n",
       "0         -73.841614         40.712276                1           17   \n",
       "1         -73.979271         40.782005                1           16   \n",
       "2         -73.991241         40.750561                2            0   \n",
       "3         -73.991570         40.758091                1            4   \n",
       "4         -73.956657         40.783764                1            7   \n",
       "\n",
       "   month_of_year  year  euclidean_dist  \n",
       "0              6  2009        0.640513  \n",
       "1              1  2010        5.250911  \n",
       "2              8  2011        0.863531  \n",
       "3              4  2012        1.739456  \n",
       "4              3  2010        1.242248  "
      ]
     },
     "execution_count": 29,
     "metadata": {
      "tags": []
     },
     "output_type": "execute_result"
    }
   ],
   "source": [
    "df_1 = df\n",
    "df_1.reset_index()\n",
    "#df_1.head()\n",
    "#df_1.to_feather(\"gdrive/My Drive/Colab Notebooks/Datasets/NYC/train_cleaned.feather\")\n",
    "df_1.to_feather(\"gdrive/My Drive/Colab Notebooks/Datasets/NYC/train_cleaned.feather\")"
   ]
  },
  {
   "cell_type": "markdown",
   "metadata": {
    "colab_type": "text",
    "id": "aRssLwlzD9oU"
   },
   "source": [
    "## Plotting the relationship betweeen variables"
   ]
  },
  {
   "cell_type": "code",
   "execution_count": 0,
   "metadata": {
    "colab": {
     "base_uri": "https://localhost:8080/",
     "height": 570
    },
    "colab_type": "code",
    "id": "T0secScjDX2q",
    "outputId": "e7e86109-0c4f-4c19-a1f3-afaf27ba9b0a"
   },
   "outputs": [
    {
     "data": {
      "text/plain": [
       "<seaborn.axisgrid.PairGrid at 0x7f23831a6198>"
      ]
     },
     "execution_count": 32,
     "metadata": {
      "tags": []
     },
     "output_type": "execute_result"
    },
    {
     "data": {
      "image/png": "[encoded data removed]",
      "text/plain": [
       "<matplotlib.figure.Figure at 0x7f239c5812e8>"
      ]
     },
     "metadata": {
      "tags": []
     },
     "output_type": "display_data"
    }
   ],
   "source": [
    "sns.pairplot(df_correlation[:10000000])"
   ]
  },
  {
   "cell_type": "markdown",
   "metadata": {
    "colab_type": "text",
    "id": "9PPrrkmRGtvV"
   },
   "source": [
    "The plots do not show a very linear kind of relationship, but fare_amount and euclidean_dist are highly correlated"
   ]
  },
  {
   "cell_type": "code",
   "execution_count": 0,
   "metadata": {
    "colab": {},
    "colab_type": "code",
    "id": "36yWGv2VEqoO"
   },
   "outputs": [],
   "source": [
    "df_reduced = df.sample(frac=0.2, random_state=42)\n"
   ]
  },
  {
   "cell_type": "code",
   "execution_count": 31,
   "metadata": {
    "colab": {
     "base_uri": "https://localhost:8080/",
     "height": 378
    },
    "colab_type": "code",
    "id": "a66xDLkiFh9D",
    "outputId": "ba0ce524-336e-4f11-fcd7-286905ecbdb7"
   },
   "outputs": [
    {
     "data": {
      "text/plain": [
       "<matplotlib.axes._subplots.AxesSubplot at 0x7fac4b58a780>"
      ]
     },
     "execution_count": 31,
     "metadata": {
      "tags": []
     },
     "output_type": "execute_result"
    },
    {
     "data": {
      "image/png": "[encoded data removed]",
      "text/plain": [
       "<matplotlib.figure.Figure at 0x7fac4b52c860>"
      ]
     },
     "metadata": {
      "tags": []
     },
     "output_type": "display_data"
    }
   ],
   "source": [
    "#Creating a distribution plot to check the frequency of cab bookings according to the hour of day\n",
    "sns.distplot(df_reduced['time_of_day'], color=\"green\")"
   ]
  },
  {
   "cell_type": "markdown",
   "metadata": {
    "colab_type": "text",
    "id": "2XrQ9mGjF3wm"
   },
   "source": [
    "From this graph, it is evident that the highest number of cab bookings are done in between 6PM to 9PM, and this coincides with the closing time of offices in NYC. Also the bookings done at late night [12AM to 5AM] could be people travelling to/from airports! "
   ]
  },
  {
   "cell_type": "code",
   "execution_count": 30,
   "metadata": {
    "colab": {
     "base_uri": "https://localhost:8080/",
     "height": 366
    },
    "colab_type": "code",
    "id": "cZ7IYumQFX8a",
    "outputId": "3fdcecb2-42b1-44e5-c4a9-b324564c354a"
   },
   "outputs": [
    {
     "data": {
      "text/plain": [
       "<matplotlib.axes._subplots.AxesSubplot at 0x7fac6c09a710>"
      ]
     },
     "execution_count": 30,
     "metadata": {
      "tags": []
     },
     "output_type": "execute_result"
    },
    {
     "data": {
      "image/png": "[encoded data removed]",
      "text/plain": [
       "<matplotlib.figure.Figure at 0x7fac6e62f7b8>"
      ]
     },
     "metadata": {
      "tags": []
     },
     "output_type": "display_data"
    }
   ],
   "source": [
    "sns.kdeplot(df_reduced['day_of_week'])"
   ]
  },
  {
   "cell_type": "markdown",
   "metadata": {
    "colab_type": "text",
    "id": "WEB0Y7RvGhWc"
   },
   "source": [
    "This plot shows that the distribution is more or less similar for every day\n",
    "I have drawn a Kernel Density Estimation plot here!"
   ]
  },
  {
   "cell_type": "code",
   "execution_count": 0,
   "metadata": {
    "colab": {},
    "colab_type": "code",
    "id": "7fZ4SxhhHECP"
   },
   "outputs": [],
   "source": [
    "sns.jointplot(\"euclidean_dist\", \"fare_amount\", data=df_reduced, kind='hex')"
   ]
  },
  {
   "cell_type": "code",
   "execution_count": 0,
   "metadata": {
    "colab": {},
    "colab_type": "code",
    "id": "T8NNEYqzHh_P"
   },
   "outputs": [],
   "source": [
    "df_reduced = df_reduced[:1000000]"
   ]
  },
  {
   "cell_type": "code",
   "execution_count": 35,
   "metadata": {
    "colab": {
     "base_uri": "https://localhost:8080/",
     "height": 454
    },
    "colab_type": "code",
    "id": "30-MpldwHpM2",
    "outputId": "0a5562d4-aef6-4889-eff4-60409eb75ac6"
   },
   "outputs": [
    {
     "data": {
      "text/plain": [
       "<seaborn.axisgrid.JointGrid at 0x7fac4b36b7b8>"
      ]
     },
     "execution_count": 35,
     "metadata": {
      "tags": []
     },
     "output_type": "execute_result"
    },
    {
     "data": {
      "image/png": "[encoded data removed]",
      "text/plain": [
       "<matplotlib.figure.Figure at 0x7fac4b31b978>"
      ]
     },
     "metadata": {
      "tags": []
     },
     "output_type": "display_data"
    }
   ],
   "source": [
    "sns.jointplot(\"euclidean_dist\", \"fare_amount\", data=df_reduced,color='green', kind='reg')"
   ]
  },
  {
   "cell_type": "markdown",
   "metadata": {
    "colab_type": "text",
    "id": "9r4sDtblIToR"
   },
   "source": [
    "This plot also reveals an interesting insight into the data! The correlation is quite high and can be seen from the line!"
   ]
  },
  {
   "cell_type": "markdown",
   "metadata": {
    "colab_type": "text",
    "id": "XfN5kk9gElqQ"
   },
   "source": [
    "# Building Linear Regression Model based on the above features\n"
   ]
  },
  {
   "cell_type": "code",
   "execution_count": 0,
   "metadata": {
    "colab": {},
    "colab_type": "code",
    "id": "qJCd4bhrLQ1V"
   },
   "outputs": [],
   "source": [
    "import numpy as np                  #For NumPy arrays and mathematical functions\n",
    "import pandas as pd                 #For operations using DataFrames\n",
    "import matplotlib.pyplot as plt     #For plotting\n",
    "import seaborn as sns               #For plotting\n",
    "import time \n",
    "import os"
   ]
  },
  {
   "cell_type": "code",
   "execution_count": 2,
   "metadata": {
    "colab": {
     "base_uri": "https://localhost:8080/",
     "height": 84
    },
    "colab_type": "code",
    "id": "a6qG5TPosLfR",
    "outputId": "afdf95d5-3afa-4444-aecd-eb9038c0253d"
   },
   "outputs": [
    {
     "name": "stderr",
     "output_type": "stream",
     "text": [
      "/usr/local/lib/python3.6/dist-packages/pandas/io/feather_format.py:112: FutureWarning: `nthreads` argument is deprecated, pass `use_threads` instead\n",
      "  return feather.read_dataframe(path, nthreads=nthreads)\n"
     ]
    },
    {
     "name": "stdout",
     "output_type": "stream",
     "text": [
      "CPU times: user 1e+03 ns, sys: 2 µs, total: 3 µs\n",
      "Wall time: 9.78 µs\n"
     ]
    }
   ],
   "source": [
    "dir_path = \"gdrive/My Drive/Colab Notebooks/Datasets/NYC/\"\n",
    "file_name = \"train_cleaned.feather\"\n",
    "df_lin = pd.read_feather(dir_path+file_name, nthreads=2)\n",
    "%time"
   ]
  },
  {
   "cell_type": "code",
   "execution_count": 0,
   "metadata": {
    "colab": {},
    "colab_type": "code",
    "id": "GFel8yh_sTLU"
   },
   "outputs": [],
   "source": [
    "print(df_lin.shape)\n",
    "df_lin.head()"
   ]
  },
  {
   "cell_type": "code",
   "execution_count": 0,
   "metadata": {
    "colab": {},
    "colab_type": "code",
    "id": "vgk2WhMitRJQ"
   },
   "outputs": [],
   "source": [
    "from sklearn.linear_model import LinearRegression\n",
    "from sklearn.cross_validation import train_test_split\n",
    "from sklearn.metrics import mean_squared_error\n",
    "from sklearn.preprocessing import PolynomialFeatures\n",
    "#from IPython.html import widgets\n",
    "#from IPython.html.widgets import interact\n",
    "#from IPython.display import display"
   ]
  },
  {
   "cell_type": "code",
   "execution_count": 0,
   "metadata": {
    "colab": {},
    "colab_type": "code",
    "id": "r_FffAtKtTz1"
   },
   "outputs": [],
   "source": [
    "df_subset = df_lin.sample(frac=0.5, random_state=42)"
   ]
  },
  {
   "cell_type": "code",
   "execution_count": 14,
   "metadata": {
    "colab": {
     "base_uri": "https://localhost:8080/",
     "height": 34
    },
    "colab_type": "code",
    "id": "yF7AydnxvEiO",
    "outputId": "e592c791-55e8-4584-aa4a-024ce6356b15"
   },
   "outputs": [
    {
     "data": {
      "text/plain": [
       "(25943001, 12)"
      ]
     },
     "execution_count": 14,
     "metadata": {
      "tags": []
     },
     "output_type": "execute_result"
    }
   ],
   "source": [
    "df_subset.shape"
   ]
  },
  {
   "cell_type": "code",
   "execution_count": 0,
   "metadata": {
    "colab": {},
    "colab_type": "code",
    "id": "SrRs7D5ovqem"
   },
   "outputs": [],
   "source": [
    "features = ['pickup_longitude', 'pickup_latitude', 'dropoff_longitude', 'dropoff_latitude', 'euclidean_dist','time_of_day', 'day_of_week']\n",
    "\n",
    "X1 = df_subset[features].values\n",
    "\n",
    "Y = df_subset[['fare_amount']].values\n",
    "\n",
    "X1_train, X1_test, y_train, y_test = train_test_split(X1, Y, test_size=0.3, random_state=0)"
   ]
  },
  {
   "cell_type": "code",
   "execution_count": 16,
   "metadata": {
    "colab": {
     "base_uri": "https://localhost:8080/",
     "height": 67
    },
    "colab_type": "code",
    "id": "6h_QpVwWwCSm",
    "outputId": "e533b198-36db-4722-dbd1-e783e4b658dc"
   },
   "outputs": [
    {
     "data": {
      "text/plain": [
       "array([[ 1.26752508e+01,  8.25524376e+00, -5.74357322e+00,\n",
       "        -1.50032256e+01,  3.70326356e+00,  1.07440275e-02,\n",
       "        -4.96219671e-02]])"
      ]
     },
     "execution_count": 16,
     "metadata": {
      "tags": []
     },
     "output_type": "execute_result"
    }
   ],
   "source": [
    "slr = LinearRegression()\n",
    "slr.fit(X1_train, y_train)\n",
    "y_train_pred = slr.predict(X1_train)\n",
    "y_test_pred = slr.predict(X1_test)\n",
    "slr.coef_"
   ]
  },
  {
   "cell_type": "markdown",
   "metadata": {
    "colab_type": "text",
    "id": "8V-2YW1iNAHr"
   },
   "source": [
    "When frac=0.5 <br>\n",
    "array([[ 1.26752508e+01,  8.25524376e+00, -5.74357322e+00,\n",
    "        -1.50032256e+01,  3.70326356e+00,  1.07440275e-02,\n",
    "        -4.96219671e-02]])"
   ]
  },
  {
   "cell_type": "markdown",
   "metadata": {
    "colab_type": "text",
    "id": "yJLd5BhmMqmU"
   },
   "source": [
    "For frac=0.2<br>array([[ 1.26912264e+01,  8.28425098e+00, -5.60640618e+00,\n",
    "        -1.50239738e+01,  3.70220438e+00,  1.05555875e-02,\n",
    "        -5.09145992e-02]])"
   ]
  },
  {
   "cell_type": "code",
   "execution_count": 17,
   "metadata": {
    "colab": {
     "base_uri": "https://localhost:8080/",
     "height": 67
    },
    "colab_type": "code",
    "id": "bOkxUss4wJTV",
    "outputId": "5f70aef7-5917-4315-e38f-ddcb828b7633"
   },
   "outputs": [
    {
     "name": "stdout",
     "output_type": "stream",
     "text": [
      "Simple Linear Regression on Euclidean Distance Results:\n",
      "Root Mean Squared Error Train: 3.87634\n",
      "Root Mean Squared Error Test: 3.87814\n"
     ]
    }
   ],
   "source": [
    "from math import sqrt\n",
    "import numpy as np\n",
    "print ('Simple Linear Regression on Euclidean Distance Results:')\n",
    "print ('Root Mean Squared Error Train: %.5f' % np.sqrt(mean_squared_error(y_train,y_train_pred)))\n",
    "print ('Root Mean Squared Error Test: %.5f' % np.sqrt(mean_squared_error(y_test,y_test_pred)))"
   ]
  },
  {
   "cell_type": "markdown",
   "metadata": {
    "colab_type": "text",
    "id": "8Vp7o10cNMT9"
   },
   "source": [
    "Simple Linear Regression over 50%  of dataset Results:\n",
    "Root Mean Squared Error Train: 3.87634\n",
    "Root Mean Squared Error Test: 3.87814"
   ]
  },
  {
   "cell_type": "markdown",
   "metadata": {
    "colab_type": "text",
    "id": "GqVbtsFnM3PQ"
   },
   "source": [
    "Simple Linear Regression frac=0.2 Results:\n",
    "Root Mean Squared Error Train: 3.86948\n",
    "Root Mean Squared Error Test: 3.87446"
   ]
  },
  {
   "cell_type": "markdown",
   "metadata": {
    "colab_type": "text",
    "id": "2HfxbnBxOsA9"
   },
   "source": [
    "# Checking results with the Test File"
   ]
  },
  {
   "cell_type": "code",
   "execution_count": 0,
   "metadata": {
    "colab": {},
    "colab_type": "code",
    "id": "ATYfPoXTyjBI"
   },
   "outputs": [],
   "source": [
    "dir_path = \"gdrive/My Drive/Colab Notebooks/Datasets/NYC/\"\n",
    "file_name = \"test.csv\""
   ]
  },
  {
   "cell_type": "code",
   "execution_count": 0,
   "metadata": {
    "colab": {},
    "colab_type": "code",
    "id": "xt44eKD6zAoq"
   },
   "outputs": [],
   "source": [
    "df_test = pd.read_csv(dir_path+file_name)"
   ]
  },
  {
   "cell_type": "code",
   "execution_count": 0,
   "metadata": {
    "colab": {},
    "colab_type": "code",
    "id": "BJRtoauAzGT9"
   },
   "outputs": [],
   "source": [
    "df_test.head()"
   ]
  },
  {
   "cell_type": "code",
   "execution_count": 0,
   "metadata": {
    "colab": {},
    "colab_type": "code",
    "id": "9srHpTOcO9Y4"
   },
   "outputs": [],
   "source": [
    "from math import sin, cos, asin, sqrt, radians\n",
    "\n",
    "def euclidean_dist(lon1, lat1, lon2, lat2):\n",
    "    lon1, lat1, lon2, lat2 = map(np.radians, [lon1, lat1, lon2, lat2])\n",
    "    # haversine formula \n",
    "    dlon = lon2 - lon1 \n",
    "    dlat = lat2 - lat1 \n",
    "    a = (np.sin(dlat/2)**2 \n",
    "         + np.cos(lat1) * np.cos(lat2) * np.sin(dlon/2)**2)\n",
    "    c = 2 * np.arcsin(np.sqrt(a)) \n",
    "    miles = 3959 * c\n",
    "    return miles"
   ]
  },
  {
   "cell_type": "code",
   "execution_count": 0,
   "metadata": {
    "colab": {},
    "colab_type": "code",
    "id": "kYtKHhwZzN7d"
   },
   "outputs": [],
   "source": [
    "df_test['euclidean_dist'] = euclidean_dist(df_test.loc[:,'pickup_longitude'].astype(float), \n",
    "                                      df_test.loc[:,'pickup_latitude'].astype(float),\n",
    "                                      df_test.loc[:,'dropoff_longitude'].astype(float), \n",
    "                                      df_test.loc[:,'dropoff_latitude'].astype(float))"
   ]
  },
  {
   "cell_type": "code",
   "execution_count": 0,
   "metadata": {
    "colab": {},
    "colab_type": "code",
    "id": "2eg9ewNrzeAB"
   },
   "outputs": [],
   "source": [
    "df_test['time_of_day'] = pd.to_datetime(df_test['pickup_datetime']).dt.hour\n",
    "df_test['year'] = pd.to_datetime(df_test['pickup_datetime']).dt.year\n",
    "df_test['day_of_week'] = pd.to_datetime(df_test['pickup_datetime']).dt.weekday.astype(np.int64)\n",
    "df_test['month_of_year'] = pd.to_datetime(df_test['pickup_datetime']).dt.month"
   ]
  },
  {
   "cell_type": "code",
   "execution_count": 10,
   "metadata": {
    "colab": {
     "base_uri": "https://localhost:8080/",
     "height": 34
    },
    "colab_type": "code",
    "id": "40Qyt8nvzukC",
    "outputId": "f4018dcc-d9c1-4c66-e102-d89a88a291e7"
   },
   "outputs": [
    {
     "data": {
      "text/plain": [
       "(9914, 12)"
      ]
     },
     "execution_count": 10,
     "metadata": {
      "tags": []
     },
     "output_type": "execute_result"
    }
   ],
   "source": [
    "df_test.shape"
   ]
  },
  {
   "cell_type": "code",
   "execution_count": 11,
   "metadata": {
    "colab": {
     "base_uri": "https://localhost:8080/",
     "height": 185
    },
    "colab_type": "code",
    "id": "cSSa5Nvn0KIl",
    "outputId": "a73ff252-7054-46e9-8cf7-1fff2e27d519"
   },
   "outputs": [
    {
     "name": "stdout",
     "output_type": "stream",
     "text": [
      "[[ 9.23534548]\n",
      " [ 9.10376691]\n",
      " [ 4.82819657]\n",
      " [ 8.15740108]\n",
      " [16.50943335]\n",
      " [11.40557623]\n",
      " [ 5.77304848]\n",
      " [54.6477168 ]\n",
      " [11.84817396]\n",
      " [ 6.09650996]]\n"
     ]
    }
   ],
   "source": [
    "features = ['pickup_longitude', 'pickup_latitude', 'dropoff_longitude', 'dropoff_latitude', 'euclidean_dist','time_of_day', 'day_of_week']\n",
    "\n",
    "X1_train = df_subset[features].values\n",
    "y_train  = df_subset[['fare_amount']].values\n",
    "X1_test  = df_test[features].values\n",
    "\n",
    "slr = LinearRegression()\n",
    "model = slr.fit(X1_train, y_train)\n",
    "pred = model.predict(X1_test)\n",
    "slr.coef_\n",
    "\n",
    "print(pred[:10])"
   ]
  },
  {
   "cell_type": "code",
   "execution_count": 12,
   "metadata": {
    "colab": {
     "base_uri": "https://localhost:8080/",
     "height": 134
    },
    "colab_type": "code",
    "id": "T1sPwrYH1kh0",
    "outputId": "19076664-05f2-4083-de39-6be274058484"
   },
   "outputs": [
    {
     "name": "stdout",
     "output_type": "stream",
     "text": [
      "Done!\n"
     ]
    },
    {
     "name": "stderr",
     "output_type": "stream",
     "text": [
      "/usr/local/lib/python3.6/dist-packages/ipykernel_launcher.py:2: SettingWithCopyWarning: \n",
      "A value is trying to be set on a copy of a slice from a DataFrame.\n",
      "Try using .loc[row_indexer,col_indexer] = value instead\n",
      "\n",
      "See the caveats in the documentation: http://pandas.pydata.org/pandas-docs/stable/indexing.html#indexing-view-versus-copy\n",
      "  \n"
     ]
    }
   ],
   "source": [
    "df_submit = df_test[['key']]\n",
    "df_submit['fare_amount'] = pred\n",
    "df_submit.to_csv(dir_path+\"linear_reg_2.csv\", index=False)\n",
    "print(\"Done!\")"
   ]
  },
  {
   "cell_type": "code",
   "execution_count": 0,
   "metadata": {
    "colab": {
     "base_uri": "https://localhost:8080/",
     "height": 35
    },
    "colab_type": "code",
    "id": "z4z0zTEN2DGA",
    "outputId": "11a1f3d5-b5eb-4cd0-8186-28ff4c70455c"
   },
   "outputs": [
    {
     "data": {
      "text/plain": [
       "(9914, 2)"
      ]
     },
     "execution_count": 52,
     "metadata": {
      "tags": []
     },
     "output_type": "execute_result"
    }
   ],
   "source": [
    "df_submit.shape"
   ]
  },
  {
   "cell_type": "markdown",
   "metadata": {
    "colab_type": "text",
    "id": "NokaLm0vTk9X"
   },
   "source": [
    "## Kaggle RMSE for Linear Regression: 5.814, 5.912, 5.813\n",
    "\n",
    "---\n",
    "\n"
   ]
  },
  {
   "cell_type": "markdown",
   "metadata": {
    "colab_type": "text",
    "id": "C62EX6pq2HvM"
   },
   "source": [
    "# Random Forest"
   ]
  },
  {
   "cell_type": "code",
   "execution_count": 0,
   "metadata": {
    "colab": {},
    "colab_type": "code",
    "id": "hkIoIBZUSazi"
   },
   "outputs": [],
   "source": [
    "import numpy as np                  #For NumPy arrays and mathematical functions\n",
    "import pandas as pd                 #For operations using DataFrames\n",
    "import matplotlib.pyplot as plt     #For plotting\n",
    "import seaborn as sns               #For plotting\n",
    "import time \n",
    "import os"
   ]
  },
  {
   "cell_type": "code",
   "execution_count": 0,
   "metadata": {
    "colab": {},
    "colab_type": "code",
    "id": "t-P10AThHDCI"
   },
   "outputs": [],
   "source": [
    "from google.colab import drive\n",
    "drive.mount('gdrive')"
   ]
  },
  {
   "cell_type": "code",
   "execution_count": 0,
   "metadata": {
    "colab": {},
    "colab_type": "code",
    "id": "c0Q6j95gHI57"
   },
   "outputs": [],
   "source": [
    "dir_path = \"gdrive/My Drive/Colab Notebooks/Datasets/NYC/\"\n",
    "file_name = \"train_cleaned.feather\""
   ]
  },
  {
   "cell_type": "code",
   "execution_count": 0,
   "metadata": {
    "colab": {},
    "colab_type": "code",
    "id": "Qfr_mp3hHogr"
   },
   "outputs": [],
   "source": [
    "!pip install -U feather-format"
   ]
  },
  {
   "cell_type": "code",
   "execution_count": 0,
   "metadata": {
    "colab": {
     "base_uri": "https://localhost:8080/",
     "height": 52
    },
    "colab_type": "code",
    "id": "-bm1lVUMHsDK",
    "outputId": "2b820e58-ced2-4697-85e9-dacc7913b804"
   },
   "outputs": [
    {
     "name": "stderr",
     "output_type": "stream",
     "text": [
      "/usr/local/lib/python3.6/dist-packages/pandas/io/feather_format.py:112: FutureWarning: `nthreads` argument is deprecated, pass `use_threads` instead\n",
      "  return feather.read_dataframe(path, nthreads=nthreads)\n"
     ]
    }
   ],
   "source": [
    "df = pd.read_feather(dir_path+file_name, nthreads=2)"
   ]
  },
  {
   "cell_type": "code",
   "execution_count": 0,
   "metadata": {
    "colab": {
     "base_uri": "https://localhost:8080/",
     "height": 194
    },
    "colab_type": "code",
    "id": "Ju6KM9ADTBmJ",
    "outputId": "d5485c33-54b0-4aaa-f0b7-e92ccd98b99b"
   },
   "outputs": [
    {
     "data": {
      "text/html": [
       "<div>\n",
       "<style scoped>\n",
       "    .dataframe tbody tr th:only-of-type {\n",
       "        vertical-align: middle;\n",
       "    }\n",
       "\n",
       "    .dataframe tbody tr th {\n",
       "        vertical-align: top;\n",
       "    }\n",
       "\n",
       "    .dataframe thead th {\n",
       "        text-align: right;\n",
       "    }\n",
       "</style>\n",
       "<table border=\"1\" class=\"dataframe\">\n",
       "  <thead>\n",
       "    <tr style=\"text-align: right;\">\n",
       "      <th></th>\n",
       "      <th>fare_amount</th>\n",
       "      <th>pickup_datetime</th>\n",
       "      <th>pickup_longitude</th>\n",
       "      <th>pickup_latitude</th>\n",
       "      <th>dropoff_longitude</th>\n",
       "      <th>dropoff_latitude</th>\n",
       "      <th>passenger_count</th>\n",
       "      <th>time_of_day</th>\n",
       "      <th>month_of_year</th>\n",
       "      <th>year</th>\n",
       "      <th>euclidean_dist</th>\n",
       "      <th>day_of_week</th>\n",
       "    </tr>\n",
       "  </thead>\n",
       "  <tbody>\n",
       "    <tr>\n",
       "      <th>44976798</th>\n",
       "      <td>12.5</td>\n",
       "      <td>2011-02-15 11:29:00+00:00</td>\n",
       "      <td>-73.998558</td>\n",
       "      <td>40.724583</td>\n",
       "      <td>-73.995834</td>\n",
       "      <td>40.767811</td>\n",
       "      <td>1</td>\n",
       "      <td>11</td>\n",
       "      <td>2</td>\n",
       "      <td>2011</td>\n",
       "      <td>2.990362</td>\n",
       "      <td>1</td>\n",
       "    </tr>\n",
       "    <tr>\n",
       "      <th>45538027</th>\n",
       "      <td>4.9</td>\n",
       "      <td>2009-09-26 04:04:00+00:00</td>\n",
       "      <td>-73.988586</td>\n",
       "      <td>40.733788</td>\n",
       "      <td>-73.976578</td>\n",
       "      <td>40.727203</td>\n",
       "      <td>1</td>\n",
       "      <td>4</td>\n",
       "      <td>9</td>\n",
       "      <td>2009</td>\n",
       "      <td>0.776115</td>\n",
       "      <td>5</td>\n",
       "    </tr>\n",
       "    <tr>\n",
       "      <th>47711137</th>\n",
       "      <td>10.1</td>\n",
       "      <td>2012-07-28 10:09:00+00:00</td>\n",
       "      <td>-73.992920</td>\n",
       "      <td>40.755295</td>\n",
       "      <td>-73.977371</td>\n",
       "      <td>40.784374</td>\n",
       "      <td>4</td>\n",
       "      <td>10</td>\n",
       "      <td>7</td>\n",
       "      <td>2012</td>\n",
       "      <td>2.167814</td>\n",
       "      <td>5</td>\n",
       "    </tr>\n",
       "    <tr>\n",
       "      <th>19321254</th>\n",
       "      <td>6.5</td>\n",
       "      <td>2012-05-09 22:24:00+00:00</td>\n",
       "      <td>-73.986252</td>\n",
       "      <td>40.726101</td>\n",
       "      <td>-73.981277</td>\n",
       "      <td>40.744148</td>\n",
       "      <td>6</td>\n",
       "      <td>22</td>\n",
       "      <td>5</td>\n",
       "      <td>2012</td>\n",
       "      <td>1.273934</td>\n",
       "      <td>2</td>\n",
       "    </tr>\n",
       "    <tr>\n",
       "      <th>49976425</th>\n",
       "      <td>12.5</td>\n",
       "      <td>2012-02-08 20:05:00+00:00</td>\n",
       "      <td>-73.994736</td>\n",
       "      <td>40.726070</td>\n",
       "      <td>-73.966980</td>\n",
       "      <td>40.758049</td>\n",
       "      <td>1</td>\n",
       "      <td>20</td>\n",
       "      <td>2</td>\n",
       "      <td>2012</td>\n",
       "      <td>2.644608</td>\n",
       "      <td>2</td>\n",
       "    </tr>\n",
       "  </tbody>\n",
       "</table>\n",
       "</div>"
      ],
      "text/plain": [
       "          fare_amount           pickup_datetime  pickup_longitude  \\\n",
       "44976798         12.5 2011-02-15 11:29:00+00:00        -73.998558   \n",
       "45538027          4.9 2009-09-26 04:04:00+00:00        -73.988586   \n",
       "47711137         10.1 2012-07-28 10:09:00+00:00        -73.992920   \n",
       "19321254          6.5 2012-05-09 22:24:00+00:00        -73.986252   \n",
       "49976425         12.5 2012-02-08 20:05:00+00:00        -73.994736   \n",
       "\n",
       "          pickup_latitude  dropoff_longitude  dropoff_latitude  \\\n",
       "44976798        40.724583         -73.995834         40.767811   \n",
       "45538027        40.733788         -73.976578         40.727203   \n",
       "47711137        40.755295         -73.977371         40.784374   \n",
       "19321254        40.726101         -73.981277         40.744148   \n",
       "49976425        40.726070         -73.966980         40.758049   \n",
       "\n",
       "          passenger_count  time_of_day  month_of_year  year  euclidean_dist  \\\n",
       "44976798                1           11              2  2011        2.990362   \n",
       "45538027                1            4              9  2009        0.776115   \n",
       "47711137                4           10              7  2012        2.167814   \n",
       "19321254                6           22              5  2012        1.273934   \n",
       "49976425                1           20              2  2012        2.644608   \n",
       "\n",
       "          day_of_week  \n",
       "44976798            1  \n",
       "45538027            5  \n",
       "47711137            5  \n",
       "19321254            2  \n",
       "49976425            2  "
      ]
     },
     "execution_count": 44,
     "metadata": {
      "tags": []
     },
     "output_type": "execute_result"
    }
   ],
   "source": [
    "# Loading 20% of the dataset\n",
    "df_subset = df.sample(frac=0.1, random_state=42)\n",
    "df_subset.head()"
   ]
  },
  {
   "cell_type": "code",
   "execution_count": 0,
   "metadata": {
    "colab": {
     "base_uri": "https://localhost:8080/",
     "height": 35
    },
    "colab_type": "code",
    "id": "KhnU-0PjaWMX",
    "outputId": "fd0a3e85-f76d-4a50-d2b6-5ca5d66b7ccc"
   },
   "outputs": [
    {
     "data": {
      "text/plain": [
       "(518860, 12)"
      ]
     },
     "execution_count": 27,
     "metadata": {
      "tags": []
     },
     "output_type": "execute_result"
    }
   ],
   "source": [
    "df_subset.shape"
   ]
  },
  {
   "cell_type": "code",
   "execution_count": 0,
   "metadata": {
    "colab": {},
    "colab_type": "code",
    "id": "Av8dytPiTRRE"
   },
   "outputs": [],
   "source": [
    "features = ['pickup_longitude', 'pickup_latitude', 'dropoff_longitude', 'dropoff_latitude',\n",
    "            'passenger_count', 'euclidean_dist', 'year', 'day_of_week', 'time_of_day']\n",
    "X = df_subset[features].values\n",
    "y = df_subset['fare_amount'].values"
   ]
  },
  {
   "cell_type": "code",
   "execution_count": 0,
   "metadata": {
    "colab": {},
    "colab_type": "code",
    "id": "XAe2fKA9VgQS"
   },
   "outputs": [],
   "source": [
    "# Using Skicit-learn to split data into training and testing sets\n",
    "from sklearn.model_selection import train_test_split\n",
    "# Split the data into training and testing sets\n",
    "X_train, X_test , y_train, y_test = train_test_split(X, y, test_size = 0.25, random_state = 42)"
   ]
  },
  {
   "cell_type": "code",
   "execution_count": 0,
   "metadata": {
    "colab": {},
    "colab_type": "code",
    "id": "Sjb-LziiUDXg"
   },
   "outputs": [],
   "source": [
    "# Import the model we are using\n",
    "from sklearn.ensemble import RandomForestRegressor\n",
    "# Instantiate model with 10 decision trees\n",
    "rf = RandomForestRegressor(n_estimators = 50, random_state = 42)\n",
    "# Train the model on training data\n",
    "rf.fit(X_train, y_train)\n",
    "y_train_pred = rf.predict(X_train)\n",
    "y_test_pred = rf.predict(X_test)"
   ]
  },
  {
   "cell_type": "code",
   "execution_count": 0,
   "metadata": {
    "colab": {},
    "colab_type": "code",
    "id": "4Mg2oGyvWHWj"
   },
   "outputs": [],
   "source": [
    "from math import sqrt\n",
    "import numpy as np\n",
    "from sklearn.metrics import mean_squared_error\n",
    "print ('Random Forest Results:')\n",
    "print ('Root Mean Squared Error Train: %.5f' % np.sqrt(mean_squared_error(y_train,y_train_pred)))\n",
    "print ('Root Mean Squared Error Test: %.5f' % np.sqrt(mean_squared_error(y_test,y_test_pred)))"
   ]
  },
  {
   "cell_type": "markdown",
   "metadata": {
    "colab_type": "text",
    "id": "cpVcL2pzS9Hs"
   },
   "source": [
    "# Checking with Test File"
   ]
  },
  {
   "cell_type": "code",
   "execution_count": 0,
   "metadata": {
    "colab": {},
    "colab_type": "code",
    "id": "ET-b6le2Zp95"
   },
   "outputs": [],
   "source": [
    "dir_path = \"gdrive/My Drive/Colab Notebooks/Datasets/NYC/\"\n",
    "file_name = \"test.csv\""
   ]
  },
  {
   "cell_type": "code",
   "execution_count": 0,
   "metadata": {
    "colab": {},
    "colab_type": "code",
    "id": "ir08dAxvUFrx"
   },
   "outputs": [],
   "source": [
    "df_test = pd.read_csv(dir_path+file_name)"
   ]
  },
  {
   "cell_type": "code",
   "execution_count": 0,
   "metadata": {
    "colab": {},
    "colab_type": "code",
    "id": "xF61HLOFZ-AW"
   },
   "outputs": [],
   "source": [
    "from math import sin, cos, asin, sqrt, radians\n",
    "\n",
    "def euclidean_dist(lon1, lat1, lon2, lat2):\n",
    "    lon1, lat1, lon2, lat2 = map(np.radians, [lon1, lat1, lon2, lat2])\n",
    "    # haversine formula \n",
    "    dlon = lon2 - lon1 \n",
    "    dlat = lat2 - lat1 \n",
    "    a = (np.sin(dlat/2)**2 \n",
    "         + np.cos(lat1) * np.cos(lat2) * np.sin(dlon/2)**2)\n",
    "    c = 2 * np.arcsin(np.sqrt(a)) \n",
    "    miles = 3959 * c\n",
    "    return miles"
   ]
  },
  {
   "cell_type": "code",
   "execution_count": 0,
   "metadata": {
    "colab": {},
    "colab_type": "code",
    "id": "65lasQY9ZzRm"
   },
   "outputs": [],
   "source": [
    "df_test['euclidean_dist'] = euclidean_dist(df_test.loc[:,'pickup_longitude'].astype(float), \n",
    "                                      df_test.loc[:,'pickup_latitude'].astype(float),\n",
    "                                      df_test.loc[:,'dropoff_longitude'].astype(float), \n",
    "                                      df_test.loc[:,'dropoff_latitude'].astype(float))"
   ]
  },
  {
   "cell_type": "code",
   "execution_count": 0,
   "metadata": {
    "colab": {},
    "colab_type": "code",
    "id": "dQFY1xDyaNs6"
   },
   "outputs": [],
   "source": [
    "df_test['time_of_day'] = pd.to_datetime(df_test['pickup_datetime']).dt.hour\n",
    "df_test['year'] = pd.to_datetime(df_test['pickup_datetime']).dt.year\n",
    "df_test['day_of_week'] = pd.to_datetime(df_test['pickup_datetime']).dt.weekday.astype(np.int64)\n",
    "df_test['month_of_year'] = pd.to_datetime(df_test['pickup_datetime']).dt.month"
   ]
  },
  {
   "cell_type": "code",
   "execution_count": 0,
   "metadata": {
    "colab": {},
    "colab_type": "code",
    "id": "XKtwQpapaOtM"
   },
   "outputs": [],
   "source": [
    "df_test.head()"
   ]
  },
  {
   "cell_type": "code",
   "execution_count": 0,
   "metadata": {
    "colab": {},
    "colab_type": "code",
    "id": "A-ESNz0YbTVu"
   },
   "outputs": [],
   "source": [
    "features = ['pickup_longitude', 'pickup_latitude', 'dropoff_longitude', 'dropoff_latitude',\n",
    "            'passenger_count', 'euclidean_dist', 'year', 'day_of_week', 'time_of_day']\n",
    "X_train = df_subset[features].values\n",
    "y_train = df_subset['fare_amount'].values\n",
    "X_test = df_test[features].values"
   ]
  },
  {
   "cell_type": "code",
   "execution_count": 0,
   "metadata": {
    "colab": {},
    "colab_type": "code",
    "id": "FbU4xeoxbbzm"
   },
   "outputs": [],
   "source": [
    "# Import the model we are using\n",
    "from sklearn.ensemble import RandomForestRegressor\n",
    "# Instantiate model with 10 decision trees\n",
    "rf = RandomForestRegressor(n_estimators = 50, random_state = 42)\n",
    "# Train the model on training data\n",
    "rf.fit(X_train, y_train)\n",
    "y_train_pred = rf.predict(X_train)\n",
    "y_test_pred = rf.predict(X_test)\n",
    "\n",
    "print(y_test_pred[:10])"
   ]
  },
  {
   "cell_type": "code",
   "execution_count": 0,
   "metadata": {
    "colab": {},
    "colab_type": "code",
    "id": "fj8h6eeocMR6"
   },
   "outputs": [],
   "source": [
    "from math import sqrt\n",
    "import numpy as np\n",
    "from sklearn.metrics import mean_squared_error\n",
    "print ('Random Forest Results:')\n",
    "print ('Root Mean Squared Error Train: %.5f' % np.sqrt(mean_squared_error(y_train,y_train_pred)))\n",
    "print ('Root Mean Squared Error Test: %.5f' % np.sqrt(mean_squared_error(y_test,y_test_pred)))"
   ]
  },
  {
   "cell_type": "code",
   "execution_count": 0,
   "metadata": {
    "colab": {
     "base_uri": "https://localhost:8080/",
     "height": 141
    },
    "colab_type": "code",
    "id": "Pwk2aPVGbbwh",
    "outputId": "cfe98605-6064-4cac-b34d-94e6a0ede9cb"
   },
   "outputs": [
    {
     "name": "stdout",
     "output_type": "stream",
     "text": [
      "Done!\n"
     ]
    },
    {
     "name": "stderr",
     "output_type": "stream",
     "text": [
      "/usr/local/lib/python3.6/dist-packages/ipykernel_launcher.py:2: SettingWithCopyWarning: \n",
      "A value is trying to be set on a copy of a slice from a DataFrame.\n",
      "Try using .loc[row_indexer,col_indexer] = value instead\n",
      "\n",
      "See the caveats in the documentation: http://pandas.pydata.org/pandas-docs/stable/indexing.html#indexing-view-versus-copy\n",
      "  \n"
     ]
    }
   ],
   "source": [
    "df_submit = df_test[['key']]\n",
    "df_submit['fare_amount'] = y_test_pred\n",
    "df_submit.to_csv(dir_path+\"rf_regressor_n100.csv\", index=False)\n",
    "print(\"Done!\")"
   ]
  },
  {
   "cell_type": "markdown",
   "metadata": {
    "colab_type": "text",
    "id": "8hqB3K5LVN54"
   },
   "source": [
    "# Random Forest RMSE over Kaggle: \n",
    "## 1. No. of rows = 1/100 * Cleaned Dataset [Around 520,000 rows] and n_estimators = 50 -> *`RMSE: 3.45618`*\n",
    "## 2. No. of rows = 1/10 * Cleaned Dataset [Around 5.2 million rows] and n_estimators = 100 -> *`RMSE: 3.43151`*"
   ]
  },
  {
   "cell_type": "markdown",
   "metadata": {
    "colab_type": "text",
    "id": "9BqAZDyGV-57"
   },
   "source": [
    "## **END OF FILE**\n",
    "\n",
    "---\n",
    "\n"
   ]
  }
 ],
 "metadata": {
  "colab": {
   "name": "Taxi Model 1.ipynb",
   "provenance": [],
   "version": "0.3.2"
  },
  "kernelspec": {
   "display_name": "Python 3",
   "language": "python",
   "name": "python3"
  },
  "language_info": {
   "codemirror_mode": {
    "name": "ipython",
    "version": 3
   },
   "file_extension": ".py",
   "mimetype": "text/x-python",
   "name": "python",
   "nbconvert_exporter": "python",
   "pygments_lexer": "ipython3",
   "version": "3.6.5"
  }
 },
 "nbformat": 4,
 "nbformat_minor": 1
}
